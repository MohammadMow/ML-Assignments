{
  "cells": [
    {
      "cell_type": "markdown",
      "metadata": {
        "id": "tJbiMZVPSejW"
      },
      "source": [
        "<img src=\"./sharif.png\" alt=\"SUT logo\" width=300 height=300 align=left class=\"saturate\">\n",
        "\n",
        "<br>\n",
        "<font>\n",
        "<div dir=ltr align=center>\n",
        "<font color=0F5298 size=7>\n",
        "    Machine Learning <br>\n",
        "<font color=2565AE size=5>\n",
        "    Computer Engineering Department <br>\n",
        "    Spring 2024<br>\n",
        "<font color=3C99D size=5>\n",
        "    Practical Assignment 3<br>\n",
        "<font color=696880 size=4>\n",
        "    Ashkan Majidi - Shayan Salehi - Amirhossein Alamdar\n",
        "\n",
        "____"
      ]
    },
    {
      "cell_type": "markdown",
      "metadata": {
        "id": "PHDlOEX7Seja"
      },
      "source": [
        "# Personal Data"
      ]
    },
    {
      "cell_type": "code",
      "execution_count": 1,
      "metadata": {
        "id": "ek7-SZEiSejb"
      },
      "outputs": [],
      "source": [
        "student_number = ''\n",
        "first_name = 'Mohammad'\n",
        "last_name = 'Mowlavi'"
      ]
    },
    {
      "cell_type": "markdown",
      "metadata": {
        "id": "c8ke6zzqSejd"
      },
      "source": [
        "# Introduction\n",
        "\n",
        "In this assignment, you will implement SVM (Support Vector Machines) for classification.\n"
      ]
    },
    {
      "cell_type": "code",
      "execution_count": 2,
      "metadata": {
        "colab": {
          "base_uri": "https://localhost:8080/"
        },
        "id": "YFDyNuCTTJmV",
        "outputId": "792a6793-7b56-4118-b630-adab1c8f0dba"
      },
      "outputs": [
        {
          "name": "stdout",
          "output_type": "stream",
          "text": [
            "Mounted at /content/drive\n"
          ]
        }
      ],
      "source": [
        "from google.colab import drive\n",
        "drive.mount('/content/drive')"
      ]
    },
    {
      "cell_type": "code",
      "execution_count": 3,
      "metadata": {
        "colab": {
          "base_uri": "https://localhost:8080/"
        },
        "id": "y5e_HX7Kh25A",
        "outputId": "6053dfd9-36a4-4bb9-b446-7122ffa5ec0f"
      },
      "outputs": [
        {
          "name": "stdout",
          "output_type": "stream",
          "text": [
            "Requirement already satisfied: cvxopt in /usr/local/lib/python3.10/dist-packages (1.3.2)\n"
          ]
        }
      ],
      "source": [
        "!pip install cvxopt\n"
      ]
    },
    {
      "cell_type": "markdown",
      "metadata": {
        "id": "f_z2w84iSeje"
      },
      "source": [
        "# Data Prepfocessing"
      ]
    },
    {
      "cell_type": "markdown",
      "metadata": {
        "id": "ZHeC7Mg5Seje"
      },
      "source": [
        "Import your needed libraries in following cell."
      ]
    },
    {
      "cell_type": "code",
      "execution_count": 4,
      "metadata": {
        "id": "B8rPLH-PSejf"
      },
      "outputs": [],
      "source": [
        "# TODO: Write your code here\n",
        "import pandas as pd"
      ]
    },
    {
      "cell_type": "markdown",
      "metadata": {
        "id": "R4EieMIpSejf"
      },
      "source": [
        "Load data from ```satimage``` dataset and split data to features and labels. The ```label``` column is our target variable."
      ]
    },
    {
      "cell_type": "code",
      "execution_count": 5,
      "metadata": {
        "colab": {
          "base_uri": "https://localhost:8080/"
        },
        "id": "mJjHT1JvSejg",
        "outputId": "670be1d1-56a9-42c9-941b-4d240a8f7ed7"
      },
      "outputs": [
        {
          "name": "stdout",
          "output_type": "stream",
          "text": [
            "Features:\n",
            "      0         1         2         3         4         5          6       7  \\\n",
            "0   7.5  6.272730  4.047619  3.975208  3.032258  4.545455   8.421050  1.8125   \n",
            "1   7.5  4.090909 -0.714290  1.776858  2.903226  3.090909   5.052630 -1.7500   \n",
            "2  12.0  9.909090  8.333330  5.479339  3.354839  7.272730  10.526316  2.7500   \n",
            "3   7.5  4.818182  1.190480  2.702482  2.774194  2.363640   5.894740 -0.2500   \n",
            "4   7.5  4.818182  2.142860  2.702482  3.032258  3.090909   6.736840 -1.0000   \n",
            "\n",
            "        8         9  ...        26        27        28        29        30  \\\n",
            "0 -2.2500  0.077672  ... -0.517241 -0.600000 -0.138462 -0.188119 -0.431579   \n",
            "1 -2.2500  0.077672  ... -0.517241 -0.600000 -0.015385 -0.049505 -0.431579   \n",
            "2  3.4375  6.368924  ...  0.103448 -0.233333  0.200000  0.207921 -0.010526   \n",
            "3 -3.8750 -2.368924  ... -0.011494 -0.383333 -0.138462 -0.049505 -0.347368   \n",
            "4 -0.6250 -1.320388  ...  0.287356 -0.183333  0.230769  0.267327 -0.031579   \n",
            "\n",
            "         31       32        33        34        35  \n",
            "0 -0.546875 -0.15625 -0.126214 -0.431579 -0.484375  \n",
            "1 -0.609375 -0.15625 -0.126214 -0.494737 -0.609375  \n",
            "2 -0.312500 -0.15625  0.009709 -0.326316 -0.437500  \n",
            "3 -0.484375  0.09375  0.087379 -0.031579 -0.218750  \n",
            "4 -0.281250 -0.03125 -0.126214 -0.431579 -0.546875  \n",
            "\n",
            "[5 rows x 36 columns]\n",
            "\n",
            "Labels:\n",
            "0    6.0\n",
            "1    6.0\n",
            "2    6.0\n",
            "3    6.0\n",
            "4    6.0\n",
            "Name: label, dtype: float64\n"
          ]
        }
      ],
      "source": [
        "# TODO: Write your code here\n",
        "df = pd.read_csv('/content/drive/MyDrive/satimage.csv')\n",
        "features = df.drop(columns=['label'])\n",
        "labels = df['label']\n",
        "print(\"Features:\")\n",
        "print(features.head())\n",
        "print(\"\\nLabels:\")\n",
        "print(labels.head())"
      ]
    },
    {
      "cell_type": "markdown",
      "metadata": {
        "id": "nmEfLt4aSejg"
      },
      "source": [
        "Now split data to train, validation and test parts. 60% of data should be used for train, 15% for validation and 25% for test. After that scale the data to Standard Normal Distribution using ```StandardScaler``` class from ```scikit-learn``` library."
      ]
    },
    {
      "cell_type": "code",
      "execution_count": 6,
      "metadata": {
        "colab": {
          "base_uri": "https://localhost:8080/"
        },
        "id": "vhF4e9WiSejh",
        "outputId": "7690e999-1e14-4820-8117-72078a073c2e"
      },
      "outputs": [
        {
          "name": "stdout",
          "output_type": "stream",
          "text": [
            "Train set shape: (3861, 36) (3861,)\n",
            "Validation set shape: (965, 36) (965,)\n",
            "Test set shape: (1609, 36) (1609,)\n"
          ]
        }
      ],
      "source": [
        "# TODO: Write your code here\n",
        "from sklearn.model_selection import train_test_split\n",
        "from sklearn.preprocessing import StandardScaler\n",
        "\n",
        "X_train, X_temp, y_train, y_temp = train_test_split(features, labels, test_size=0.4, random_state=42)\n",
        "X_val, X_test, y_val, y_test = train_test_split(X_temp, y_temp, test_size=0.625, random_state=42)\n",
        "\n",
        "scaler = StandardScaler()\n",
        "X_train_scaled = scaler.fit_transform(X_train)\n",
        "X_val_scaled = scaler.transform(X_val)\n",
        "X_test_scaled = scaler.transform(X_test)\n",
        "\n",
        "print(\"Train set shape:\", X_train_scaled.shape, y_train.shape)\n",
        "print(\"Validation set shape:\", X_val_scaled.shape, y_val.shape)\n",
        "print(\"Test set shape:\", X_test_scaled.shape, y_test.shape)"
      ]
    },
    {
      "cell_type": "markdown",
      "metadata": {
        "id": "4KievPdZSejh"
      },
      "source": [
        "We want to train Binary SVM model for classification between labels 4 and 6. Choose corresponding datas and convert their lables to 1 and -1 respectively for 4 and 6."
      ]
    },
    {
      "cell_type": "code",
      "execution_count": 7,
      "metadata": {
        "colab": {
          "base_uri": "https://localhost:8080/"
        },
        "id": "-wS-tZqDSeji",
        "outputId": "c2cb9a38-f528-4725-bb8a-c3094c3fd319"
      },
      "outputs": [
        {
          "name": "stdout",
          "output_type": "stream",
          "text": [
            "Binary Train set shape: (1266, 36) (1266,)\n",
            "Binary Validation set shape: (330, 36) (330,)\n",
            "Binary Test set shape: (538, 36) (538,)\n"
          ]
        }
      ],
      "source": [
        "# TODO: Write your code here\n",
        "import numpy as np\n",
        "\n",
        "X_train_binary = X_train_scaled[(y_train == 4) | (y_train == 6)]\n",
        "y_train_binary = y_train[(y_train == 4) | (y_train == 6)]\n",
        "\n",
        "y_train_binary = np.where(y_train_binary == 4, 1, -1)\n",
        "\n",
        "X_val_binary = X_val_scaled[(y_val == 4) | (y_val == 6)]\n",
        "y_val_binary = y_val[(y_val == 4) | (y_val == 6)]\n",
        "y_val_binary = np.where(y_val_binary == 4, 1, -1)\n",
        "\n",
        "X_test_binary = X_test_scaled[(y_test == 4) | (y_test == 6)]\n",
        "y_test_binary = y_test[(y_test == 4) | (y_test == 6)]\n",
        "y_test_binary = np.where(y_test_binary == 4, 1, -1)\n",
        "\n",
        "print(\"Binary Train set shape:\", X_train_binary.shape, y_train_binary.shape)\n",
        "print(\"Binary Validation set shape:\", X_val_binary.shape, y_val_binary.shape)\n",
        "print(\"Binary Test set shape:\", X_test_binary.shape, y_test_binary.shape)\n"
      ]
    },
    {
      "cell_type": "markdown",
      "metadata": {
        "id": "Q2aEM9G7Seji"
      },
      "source": [
        "# Model (50 points)"
      ]
    },
    {
      "cell_type": "markdown",
      "metadata": {
        "id": "7vtLQbfoSeji"
      },
      "source": [
        "Here is soft margin svm convex optimization formulation.\n",
        "$$\n",
        "\\begin{aligned}\n",
        "\\text { Minimize } & \\frac{1}{2}\\|\\mathbf{w}\\|^2+C \\sum_{i=1}^N \\xi_i \\\\\n",
        "\\text { Subject to } & y_i\\left(\\mathbf{w}^T \\mathbf{x}_i+b\\right) \\geq 1-\\xi_i, \\quad i=1,2, \\ldots, N \\\\\n",
        "& \\xi_i \\geq 0, \\quad i=1,2, \\ldots, N\n",
        "\\end{aligned}\n",
        "$$\n",
        "write dual of the soft margin svm optimization problem below:"
      ]
    },
    {
      "cell_type": "markdown",
      "metadata": {
        "id": "w6y-q2RVSejj"
      },
      "source": [
        "\\begin{align*}\n",
        "\\max_{\\mathbf{a}} \\left( \\sum_{n=1}^{N} a_n - \\frac{1}{2} \\sum_{n=1}^{N} \\sum_{m=1}^{N} a_n a_m y^{(n)} y^{(m)} x^{(n)T}  x^{(m)} \\right)\n",
        "\\end{align*}\n",
        "\n",
        "\\begin{align*}\n",
        "\\text{Subject to:}\n",
        "&\\sum_{n=1}^{N} a_n y^{(n)} = 0, \\\\\n",
        "&0 \\leq a_n \\leq C, \\quad \\forall n \\in \\{1, \\ldots, N\\}.\n",
        "\\end{align*}\n"
      ]
    },
    {
      "cell_type": "markdown",
      "metadata": {
        "id": "T2wppIXQSejj"
      },
      "source": [
        "Now you should write this optimization problem in standard Quadratic Program (QP) form and use a QP solver to find optimal answer. Here is General form of a QP:\n",
        "$$\n",
        "\\begin{aligned}\n",
        "\\text { Minimize } & \\frac{1}{2} x^TPx + q^Tx + r \\\\\n",
        "\\text { Subject to } & Gx \\leq h \\\\\n",
        "& Ax = b\n",
        "\\end{aligned}\n",
        "$$\n",
        "\n",
        "Complete functions below and use ```cvxopt``` library which is a common library for solving QPs. Note that you can't use ```scikit-learn``` library.\n"
      ]
    },
    {
      "cell_type": "code",
      "execution_count": 5,
      "metadata": {
        "id": "Qqr6-8z2hzCb"
      },
      "outputs": [],
      "source": [
        "import cvxopt\n",
        "import cvxopt.solvers"
      ]
    },
    {
      "cell_type": "code",
      "execution_count": 24,
      "metadata": {
        "id": "AfVW-DU9Sejj"
      },
      "outputs": [],
      "source": [
        "def soft_margin_svm(X, y, C):\n",
        "    \"\"\"\n",
        "    input:\n",
        "        X: training data\n",
        "        y: training labels\n",
        "        C: errors weight\n",
        "    output:\n",
        "        support_vectros: data points which are SVs of our model.\n",
        "        support_vector_labels: labels of SVs\n",
        "        support_vector_alphas: alpha coefficient of corresponding SVs\n",
        "    \"\"\"\n",
        "\n",
        "    # TODO: Write your code here\n",
        "    N = X.shape[0]\n",
        "    K = np.dot(X, X.T)\n",
        "    P = cvxopt.matrix(np.outer(y, y) * K)\n",
        "    q = cvxopt.matrix(-1 * np.ones(N))\n",
        "    A = cvxopt.matrix(y, (1, N), 'd')\n",
        "    b = cvxopt.matrix(0.0)\n",
        "\n",
        "    G = cvxopt.matrix(np.vstack((-np.eye(N), np.eye(N))))\n",
        "    h = cvxopt.matrix(np.hstack((np.zeros(N), C * np.ones(N))))\n",
        "\n",
        "    solution = cvxopt.solvers.qp(P, q, G, h, A, b)\n",
        "    alphas = np.array(solution['x'])\n",
        "\n",
        "    sv_indices = alphas > 1e-5\n",
        "    support_vectors = X[sv_indices.flatten()]\n",
        "    support_vector_alphas = alphas[sv_indices]\n",
        "    support_vector_labels = y[sv_indices.flatten()]\n",
        "\n",
        "    return support_vectors, support_vector_labels, support_vector_alphas\n"
      ]
    },
    {
      "cell_type": "code",
      "execution_count": 25,
      "metadata": {
        "colab": {
          "base_uri": "https://localhost:8080/"
        },
        "id": "QngpDLl3Sejk",
        "outputId": "fc81e7a8-e990-4d1d-f283-0ef4712d0d1d"
      },
      "outputs": [
        {
          "name": "stdout",
          "output_type": "stream",
          "text": [
            "     pcost       dcost       gap    pres   dres\n",
            " 0: -6.1265e+02 -3.3971e+03  2e+04  3e+00  2e-13\n",
            " 1: -4.1824e+02 -2.2816e+03  3e+03  3e-01  2e-13\n",
            " 2: -3.9732e+02 -7.6474e+02  4e+02  3e-02  1e-13\n",
            " 3: -4.4111e+02 -5.8227e+02  2e+02  9e-03  1e-13\n",
            " 4: -4.6125e+02 -5.3708e+02  8e+01  4e-03  1e-13\n",
            " 5: -4.7293e+02 -5.1305e+02  4e+01  2e-03  1e-13\n",
            " 6: -4.7763e+02 -5.0407e+02  3e+01  1e-03  1e-13\n",
            " 7: -4.8272e+02 -4.9477e+02  1e+01  4e-04  1e-13\n",
            " 8: -4.8534e+02 -4.9054e+02  5e+00  2e-04  1e-13\n",
            " 9: -4.8671e+02 -4.8840e+02  2e+00  4e-05  1e-13\n",
            "10: -4.8718e+02 -4.8773e+02  6e-01  7e-06  1e-13\n",
            "11: -4.8738e+02 -4.8747e+02  9e-02  4e-07  1e-13\n",
            "12: -4.8742e+02 -4.8743e+02  7e-03  3e-08  1e-13\n",
            "13: -4.8742e+02 -4.8742e+02  2e-04  6e-10  2e-13\n",
            "Optimal solution found.\n"
          ]
        }
      ],
      "source": [
        "C = 1.0\n",
        "support_vectors, support_vector_labels, support_vector_alphas = soft_margin_svm(X_train_binary, y_train_binary, C)"
      ]
    },
    {
      "cell_type": "code",
      "execution_count": 26,
      "metadata": {
        "id": "ctVgVpumSejm"
      },
      "outputs": [],
      "source": [
        "def predict_labels(x_test, support_vectors, support_vector_labels, support_vector_alphas):\n",
        "    \"\"\"\n",
        "    input:\n",
        "        x_test: test data\n",
        "        support_vectros: data points which are SVs of our model.\n",
        "        support_vector_labels: labels of SVs\n",
        "        support_vector_alphas: alpha coefficient of corresponding SVs\n",
        "    output:\n",
        "        y_pred: predictoin labels\n",
        "    \"\"\"\n",
        "\n",
        "    # TODO: Write your code here\n",
        "\n",
        "    y_pred = []\n",
        "    for x in x_test:\n",
        "        prediction = 0\n",
        "        for i in range(len(support_vectors)):\n",
        "            prediction += support_vector_alphas[i] * support_vector_labels[i] * np.dot(support_vectors[i], x)\n",
        "        y_pred.append(np.sign(prediction))\n",
        "    return y_pred"
      ]
    },
    {
      "cell_type": "code",
      "execution_count": 27,
      "metadata": {
        "id": "0SRk5a9KSejm"
      },
      "outputs": [],
      "source": [
        "y_pred = predict_labels(np.array(X_test_binary), support_vectors, support_vector_labels, support_vector_alphas)"
      ]
    },
    {
      "cell_type": "markdown",
      "metadata": {
        "id": "Jgz1-IPwSejn"
      },
      "source": [
        "# Evaluation (20 points)"
      ]
    },
    {
      "cell_type": "markdown",
      "metadata": {
        "id": "dEreHs0wSejn"
      },
      "source": [
        "Compute accuracy, balanced accuracy and plot confusion matrix of your trained model using ```Seaborn.heatmap()``` function. Use case of balanced accuracy is when dealing with imbalanced data, i.e. when one of the target classes appears a lot more than the other and it is defined by average of recall of classes. Confusion matrix is a $k\\times k$ (k is number of classes) matrix which cell ij is showing that number of data points labeld i which predicted j. For more detail of evaluation metrics you can see [here](https://neptune.ai/blog/balanced-accuracy).\n",
        "\n",
        "You may use ```scikit-learn``` library to compute these metrics."
      ]
    },
    {
      "cell_type": "code",
      "execution_count": 6,
      "metadata": {
        "id": "tfBuJHEBmJc2"
      },
      "outputs": [],
      "source": [
        "from sklearn.metrics import accuracy_score, balanced_accuracy_score, confusion_matrix\n",
        "import seaborn as sns\n",
        "import matplotlib.pyplot as plt"
      ]
    },
    {
      "cell_type": "code",
      "execution_count": 31,
      "metadata": {
        "colab": {
          "base_uri": "https://localhost:8080/"
        },
        "id": "pTFSNyjmSejn",
        "outputId": "c8c52dd6-1134-4115-816a-92c0f5f8a63e"
      },
      "outputs": [
        {
          "name": "stdout",
          "output_type": "stream",
          "text": [
            "Accuracy:  0.8252788104089219\n",
            "Balanced Accuracy:  0.7639855133496167\n",
            "Confusion Matrix:\n",
            " [[348  35]\n",
            " [ 59  96]]\n"
          ]
        }
      ],
      "source": [
        "def evaluate(y_test, y_pred):\n",
        "    \"\"\"\n",
        "    input:\n",
        "        y_test: true labels\n",
        "        y_pred: predicted labels\n",
        "    output:\n",
        "        accuracy: accuracy of the model\n",
        "        balanced_accuracy: balanced accuracy of the model\n",
        "        confusion_matrix: confusion matrix of the model\n",
        "    \"\"\"\n",
        "    # TODO: Write your code here\n",
        "\n",
        "    accuracy = accuracy_score(y_test, y_pred)\n",
        "    balanced_accuracy = balanced_accuracy_score(y_test, y_pred)\n",
        "    confusion_mat = confusion_matrix(y_test, y_pred)\n",
        "\n",
        "    print(\"Accuracy: \", accuracy)\n",
        "    print(\"Balanced Accuracy: \", balanced_accuracy)\n",
        "    print(\"Confusion Matrix:\\n\", confusion_mat)\n",
        "    return accuracy, balanced_accuracy, confusion_mat\n",
        "\n",
        "\n",
        "_, _, confusion_mat = evaluate(y_test_binary, y_pred)\n",
        "\n",
        "# plt.figure(figsize=(8, 6))\n",
        "# sns.heatmap(confusion_mat, annot=True, fmt=\"d\", cmap=\"Blues\", xticklabels=[-1, 1], yticklabels=[-1, 1])\n",
        "# plt.xlabel(\"Predicted Label\")\n",
        "# plt.ylabel(\"True Label\")\n",
        "# plt.title(\"Confusion Matrix\")\n",
        "# plt.show()"
      ]
    },
    {
      "cell_type": "code",
      "execution_count": 32,
      "metadata": {
        "colab": {
          "base_uri": "https://localhost:8080/",
          "height": 448
        },
        "id": "6uxX-1uxSejo",
        "outputId": "1d383b25-84ca-4ea2-a4b4-785c72eb68e6"
      },
      "outputs": [
        {
          "data": {
            "text/plain": [
              "<Axes: >"
            ]
          },
          "execution_count": 32,
          "metadata": {},
          "output_type": "execute_result"
        },
        {
          "data": {
            "image/png": "[encoded data removed]",
            "text/plain": [
              "<Figure size 640x480 with 2 Axes>"
            ]
          },
          "metadata": {},
          "output_type": "display_data"
        }
      ],
      "source": [
        "cm_matrix = pd.DataFrame(data=confusion_mat, columns=['Predict Negative:-1', 'Predict Positive:1'],\n",
        "                                 index=['Actual Negative:-1', 'Actual Positive:1'])\n",
        "\n",
        "sns.heatmap(cm_matrix, annot=True, fmt='d', cmap='mako')"
      ]
    },
    {
      "cell_type": "markdown",
      "metadata": {
        "id": "C0C-8u3zSejp"
      },
      "source": [
        "# Fine-tunning (40 points)"
      ]
    },
    {
      "cell_type": "markdown",
      "metadata": {
        "id": "4stCfaDSSejp"
      },
      "source": [
        "like what you did before, implement Soft Margin SVM but now use rbf kernel. To determine rbf $\\gamma$ parameter use validation datas and find best(best by balanced accuracy) $\\gamma$ between 0.001 , 0.01, 1, 10, 100. Not that you can't use ```scikit-learn``` library here."
      ]
    },
    {
      "cell_type": "code",
      "execution_count": 66,
      "metadata": {
        "id": "ar2dSwBMSejp"
      },
      "outputs": [],
      "source": [
        "def rbf(x1, x2, gamma=1):\n",
        "    \"\"\"\n",
        "    input:\n",
        "        x1: first vector\n",
        "        x2: second vector\n",
        "        gamma: rbf kernel parameter with defalt value 1.\n",
        "    output:\n",
        "        ouput: computed rbf of two input vectors\n",
        "    \"\"\"\n",
        "    # TODO: Write your code here\n",
        "    output = np.exp(-gamma * (np.linalg.norm(x1 - x2) ** 2))\n",
        "    return output\n",
        "\n",
        "def soft_margin_svm(X, y, C, gamma=1):\n",
        "    \"\"\"\n",
        "    input:\n",
        "        X: training data\n",
        "        y: training labels\n",
        "        C: errors weight\n",
        "        gamma: rbf kernel parameter with defalt value 1.\n",
        "    output:\n",
        "        support_vectros: data points which are SVs of our model.\n",
        "        support_vector_labels: labels of SVs\n",
        "        support_vector_alphas: alpha coefficient of corresponding SVs\n",
        "    \"\"\"\n",
        "\n",
        "    # TODO: Write your code here\n",
        "    N = X.shape[0]\n",
        "    K = np.zeros((N, N))\n",
        "\n",
        "    for i in range(N):\n",
        "        for j in range(N):\n",
        "            K[i, j] = rbf(X[i], X[j], gamma)\n",
        "\n",
        "    P = cvxopt.matrix(np.outer(y, y) * K)\n",
        "    q = cvxopt.matrix(-1 * np.ones(N))\n",
        "    A = cvxopt.matrix(y, (1, N), 'd')\n",
        "    b = cvxopt.matrix(0.0)\n",
        "    G = cvxopt.matrix(np.vstack((-np.eye(N), np.eye(N))))\n",
        "    h = cvxopt.matrix(np.hstack((np.zeros(N), C * np.ones(N))))\n",
        "\n",
        "    solution = cvxopt.solvers.qp(P, q, G, h, A, b)\n",
        "    alphas = np.array(solution['x'])\n",
        "\n",
        "    sv_indices = alphas > 1e-5\n",
        "    support_vectors = X[sv_indices.flatten()]\n",
        "    support_vector_alphas = alphas[sv_indices]\n",
        "    support_vector_labels = y[sv_indices.flatten()]\n",
        "\n",
        "    return support_vectors, support_vector_labels, support_vector_alphas"
      ]
    },
    {
      "cell_type": "code",
      "execution_count": 40,
      "metadata": {
        "colab": {
          "base_uri": "https://localhost:8080/"
        },
        "id": "N8QaiB1DSejq",
        "outputId": "ec245ffe-460a-4c02-b6ba-27510da18a29"
      },
      "outputs": [
        {
          "name": "stdout",
          "output_type": "stream",
          "text": [
            "     pcost       dcost       gap    pres   dres\n",
            " 0: -5.7870e+02 -3.1897e+03  2e+04  3e+00  2e-14\n",
            " 1: -4.0863e+02 -2.0634e+03  2e+03  2e-01  1e-14\n",
            " 2: -4.2109e+02 -6.8997e+02  3e+02  2e-02  1e-14\n",
            " 3: -4.6476e+02 -5.9584e+02  1e+02  8e-03  1e-14\n",
            " 4: -4.8769e+02 -5.5091e+02  7e+01  3e-03  1e-14\n",
            " 5: -4.9596e+02 -5.3660e+02  4e+01  2e-03  1e-14\n",
            " 6: -5.0371e+02 -5.2370e+02  2e+01  8e-04  1e-14\n",
            " 7: -5.0860e+02 -5.1604e+02  8e+00  2e-04  2e-14\n",
            " 8: -5.1083e+02 -5.1270e+02  2e+00  4e-05  2e-14\n",
            " 9: -5.1160e+02 -5.1168e+02  8e-02  4e-07  2e-14\n",
            "10: -5.1164e+02 -5.1164e+02  6e-03  1e-08  2e-14\n",
            "11: -5.1164e+02 -5.1164e+02  3e-04  6e-10  2e-14\n",
            "Optimal solution found.\n",
            "     pcost       dcost       gap    pres   dres\n",
            " 0: -3.5478e+02 -2.9645e+03  1e+04  3e+00  6e-15\n",
            " 1: -2.5774e+02 -1.8143e+03  2e+03  1e-01  5e-15\n",
            " 2: -2.7515e+02 -5.5668e+02  3e+02  2e-02  4e-15\n",
            " 3: -3.1035e+02 -4.0746e+02  1e+02  5e-03  4e-15\n",
            " 4: -3.2161e+02 -3.7676e+02  6e+01  2e-03  4e-15\n",
            " 5: -3.3186e+02 -3.4879e+02  2e+01  3e-04  5e-15\n",
            " 6: -3.3455e+02 -3.4305e+02  9e+00  1e-04  5e-15\n",
            " 7: -3.3586e+02 -3.4016e+02  4e+00  4e-15  6e-15\n",
            " 8: -3.3717e+02 -3.3810e+02  9e-01  4e-15  6e-15\n",
            " 9: -3.3735e+02 -3.3781e+02  5e-01  1e-15  6e-15\n",
            "10: -3.3755e+02 -3.3756e+02  2e-02  3e-15  6e-15\n",
            "11: -3.3755e+02 -3.3755e+02  5e-04  4e-15  6e-15\n",
            "12: -3.3755e+02 -3.3755e+02  8e-06  2e-14  6e-15\n",
            "Optimal solution found.\n",
            "     pcost       dcost       gap    pres   dres\n",
            " 0: -2.4269e+02 -2.1635e+03  7e+03  2e+00  1e-15\n",
            " 1: -2.2042e+02 -1.1878e+03  1e+03  1e-01  6e-16\n",
            " 2: -2.4012e+02 -3.8481e+02  2e+02  1e-02  8e-16\n",
            " 3: -2.5620e+02 -2.8744e+02  3e+01  2e-03  5e-16\n",
            " 4: -2.6083e+02 -2.6656e+02  6e+00  2e-04  4e-16\n",
            " 5: -2.6182e+02 -2.6335e+02  2e+00  4e-05  4e-16\n",
            " 6: -2.6212e+02 -2.6241e+02  3e-01  4e-06  4e-16\n",
            " 7: -2.6218e+02 -2.6221e+02  3e-02  3e-07  4e-16\n",
            " 8: -2.6219e+02 -2.6219e+02  1e-03  9e-09  4e-16\n",
            " 9: -2.6219e+02 -2.6219e+02  3e-05  2e-10  4e-16\n",
            "Optimal solution found.\n",
            "     pcost       dcost       gap    pres   dres\n",
            " 0: -4.6315e+02 -2.1251e+03  2e+03  1e-13  6e-16\n",
            " 1: -4.6963e+02 -5.0646e+02  4e+01  5e-14  4e-16\n",
            " 2: -4.7538e+02 -4.7581e+02  4e-01  1e-14  2e-16\n",
            " 3: -4.7545e+02 -4.7546e+02  4e-03  2e-15  1e-16\n",
            " 4: -4.7546e+02 -4.7546e+02  4e-05  2e-15  1e-16\n",
            "Optimal solution found.\n",
            "     pcost       dcost       gap    pres   dres\n",
            " 0: -4.6331e+02 -2.1253e+03  2e+03  9e-13  3e-16\n",
            " 1: -4.6978e+02 -5.0577e+02  4e+01  6e-14  4e-16\n",
            " 2: -4.7552e+02 -4.7591e+02  4e-01  1e-14  8e-17\n",
            " 3: -4.7559e+02 -4.7559e+02  4e-03  7e-15  5e-17\n",
            " 4: -4.7559e+02 -4.7559e+02  4e-05  4e-14  2e-17\n",
            "Optimal solution found.\n",
            "Best gamma is:  10\n"
          ]
        }
      ],
      "source": [
        "gammas = [0.01, 0.1, 1, 10, 100]\n",
        "best_gamma = None\n",
        "best_support_vectors = None\n",
        "best_support_vector_labels = None\n",
        "best_support_vector_alphas = None\n",
        "best_balanced_accuracy = 0\n",
        "\n",
        "for gamma in gammas:\n",
        "    support_vectors, support_vector_labels, support_vector_alphas = soft_margin_svm(X_train_binary, y_train_binary, C, gamma)\n",
        "\n",
        "    y_val_pred = predict_labels(X_val_binary, support_vectors, support_vector_labels, support_vector_alphas)\n",
        "\n",
        "    balanced_accuracy = balanced_accuracy_score(y_val_binary, y_val_pred)\n",
        "\n",
        "    if balanced_accuracy > best_balanced_accuracy:\n",
        "        best_balanced_accuracy = balanced_accuracy\n",
        "        best_gamma = gamma\n",
        "        best_support_vectors = support_vectors\n",
        "        best_support_vector_labels = support_vector_labels\n",
        "        best_support_vector_alphas = support_vector_alphas\n",
        "\n",
        "print(\"Best gamma is: \", best_gamma)"
      ]
    },
    {
      "cell_type": "code",
      "execution_count": 41,
      "metadata": {
        "colab": {
          "base_uri": "https://localhost:8080/"
        },
        "id": "ohQoQKZXSejr",
        "outputId": "49dcda6d-f2fe-46b2-88b3-2833830f0ceb"
      },
      "outputs": [
        {
          "name": "stdout",
          "output_type": "stream",
          "text": [
            "Accuracy:  0.8085501858736059\n",
            "Balanced Accuracy:  0.7426345489766697\n",
            "Confusion Matrix:\n",
            " [[344  39]\n",
            " [ 64  91]]\n"
          ]
        }
      ],
      "source": [
        "y_pred = predict_labels(np.array(X_test_binary), best_support_vectors, best_support_vector_labels, best_support_vector_alphas)\n",
        "_, _, confusion_mat = evaluate(y_test_binary, y_pred)"
      ]
    },
    {
      "cell_type": "markdown",
      "metadata": {
        "id": "ceiV-_ReSejr"
      },
      "source": [
        "# Multiclass SVM (30 points + 50 points optional)"
      ]
    },
    {
      "cell_type": "markdown",
      "metadata": {
        "id": "9SeRE5FxSejr"
      },
      "source": [
        "Now we want implement Multiclass SVM. Use ```SVC``` function with rbf kernel from ```scikit-learn``` package on all train datas (all six classes) and choose best hyperparameters for $C$ and $\\gamma$ between 0.01, 0.1, 1, 10, 100. After that evaluate it with your function.\n",
        "\n",
        "Note that in this example we had enough data to split them in train and validation but in case that we don't have enough data, ```scikit-learn``` has a built-in fast library named ```GridSearchCV()``` which can help us in hyperparameter tunning with cross validation."
      ]
    },
    {
      "cell_type": "code",
      "execution_count": 7,
      "metadata": {
        "id": "WyQeTNcExzHX"
      },
      "outputs": [],
      "source": [
        "import pandas as pd\n",
        "from sklearn.model_selection import train_test_split, GridSearchCV\n",
        "from sklearn.svm import SVC\n",
        "from sklearn.metrics import accuracy_score, balanced_accuracy_score, confusion_matrix"
      ]
    },
    {
      "cell_type": "code",
      "execution_count": 8,
      "metadata": {
        "colab": {
          "base_uri": "https://localhost:8080/"
        },
        "id": "bTa9a3wZxaxX",
        "outputId": "feb2cde5-3ea8-47ff-ec78-99825d57c25e"
      },
      "outputs": [
        {
          "name": "stdout",
          "output_type": "stream",
          "text": [
            "Features:\n",
            "      0         1         2         3         4         5          6       7  \\\n",
            "0   7.5  6.272730  4.047619  3.975208  3.032258  4.545455   8.421050  1.8125   \n",
            "1   7.5  4.090909 -0.714290  1.776858  2.903226  3.090909   5.052630 -1.7500   \n",
            "2  12.0  9.909090  8.333330  5.479339  3.354839  7.272730  10.526316  2.7500   \n",
            "3   7.5  4.818182  1.190480  2.702482  2.774194  2.363640   5.894740 -0.2500   \n",
            "4   7.5  4.818182  2.142860  2.702482  3.032258  3.090909   6.736840 -1.0000   \n",
            "\n",
            "        8         9  ...        26        27        28        29        30  \\\n",
            "0 -2.2500  0.077672  ... -0.517241 -0.600000 -0.138462 -0.188119 -0.431579   \n",
            "1 -2.2500  0.077672  ... -0.517241 -0.600000 -0.015385 -0.049505 -0.431579   \n",
            "2  3.4375  6.368924  ...  0.103448 -0.233333  0.200000  0.207921 -0.010526   \n",
            "3 -3.8750 -2.368924  ... -0.011494 -0.383333 -0.138462 -0.049505 -0.347368   \n",
            "4 -0.6250 -1.320388  ...  0.287356 -0.183333  0.230769  0.267327 -0.031579   \n",
            "\n",
            "         31       32        33        34        35  \n",
            "0 -0.546875 -0.15625 -0.126214 -0.431579 -0.484375  \n",
            "1 -0.609375 -0.15625 -0.126214 -0.494737 -0.609375  \n",
            "2 -0.312500 -0.15625  0.009709 -0.326316 -0.437500  \n",
            "3 -0.484375  0.09375  0.087379 -0.031579 -0.218750  \n",
            "4 -0.281250 -0.03125 -0.126214 -0.431579 -0.546875  \n",
            "\n",
            "[5 rows x 36 columns]\n",
            "\n",
            "Labels:\n",
            "0    6.0\n",
            "1    6.0\n",
            "2    6.0\n",
            "3    6.0\n",
            "4    6.0\n",
            "Name: label, dtype: float64\n"
          ]
        }
      ],
      "source": [
        "df = pd.read_csv('/content/drive/MyDrive/satimage.csv')\n",
        "features = df.drop(columns=['label'])\n",
        "labels = df['label']\n",
        "print(\"Features:\")\n",
        "print(features.head())\n",
        "print(\"\\nLabels:\")\n",
        "print(labels.head())"
      ]
    },
    {
      "cell_type": "code",
      "execution_count": 22,
      "metadata": {
        "id": "IgQgsPg9yal4"
      },
      "outputs": [],
      "source": [
        "def evaluate_model(y_true, y_pred):\n",
        "    accuracy = accuracy_score(y_true, y_pred)\n",
        "    balanced_accuracy = balanced_accuracy_score(y_true, y_pred)\n",
        "    confusion_mat = confusion_matrix(y_true, y_pred)\n",
        "    return accuracy, balanced_accuracy, confusion_mat"
      ]
    },
    {
      "cell_type": "code",
      "execution_count": 51,
      "metadata": {
        "colab": {
          "base_uri": "https://localhost:8080/"
        },
        "id": "sh4OLB8SSejs",
        "outputId": "b4895ccb-5e1d-4be1-9f81-f4f3348d9612"
      },
      "outputs": [
        {
          "name": "stdout",
          "output_type": "stream",
          "text": [
            "Best C: 10\n",
            "Best gamma: 0.01\n",
            "Accuracy: 0.9028749028749029\n",
            "Balanced Accuracy: 0.8664762388974546\n",
            "Confusion Matrix:\n",
            " [[298   0   0   0   3   0]\n",
            " [  2 144   0   1   3   1]\n",
            " [  4   1 267   6   1   2]\n",
            " [  0   1  34  59   4  13]\n",
            " [  0   1   1   1 124  14]\n",
            " [  0   0   9  15   8 270]]\n"
          ]
        }
      ],
      "source": [
        "Cs = [0.01, 0.1, 1, 10, 100]\n",
        "gammas = [0.01, 0.1, 1, 10, 100]\n",
        "# TODO: Write your code here\n",
        "X_train, X_test, y_train, y_test = train_test_split(features, labels, test_size=0.2, random_state=42)\n",
        "\n",
        "svm = SVC(kernel='rbf')\n",
        "\n",
        "param_grid = {'C': Cs, 'gamma': gammas}\n",
        "grid_search = GridSearchCV(svm, param_grid, cv=5, scoring='accuracy')\n",
        "grid_search.fit(X_train, y_train)\n",
        "\n",
        "best_C = grid_search.best_params_['C']\n",
        "best_gamma = grid_search.best_params_['gamma']\n",
        "\n",
        "print(\"Best C:\", best_C)\n",
        "print(\"Best gamma:\", best_gamma)\n",
        "\n",
        "best_svm = SVC(kernel='rbf', C=best_C, gamma=best_gamma)\n",
        "best_svm.fit(X_train, y_train)\n",
        "\n",
        "y_pred = best_svm.predict(X_test)\n",
        "accuracy, balanced_accuracy, confusion_mat = evaluate_model(y_test, y_pred)\n",
        "\n",
        "print(\"Accuracy:\", accuracy)\n",
        "print(\"Balanced Accuracy:\", balanced_accuracy)\n",
        "print(\"Confusion Matrix:\\n\", confusion_mat)"
      ]
    },
    {
      "cell_type": "markdown",
      "metadata": {
        "id": "imc9J6b_Sejs"
      },
      "source": [
        "Implement Multiclass SVM from scratch without using ready functions (optional).\n",
        "\n",
        "**I used rbf kernel function for this part as above problem**"
      ]
    },
    {
      "cell_type": "code",
      "execution_count": 173,
      "metadata": {
        "id": "k3vnEcs2Sejt"
      },
      "outputs": [],
      "source": [
        "import numpy as np\n",
        "\n",
        "\n",
        "class SoftMarginSVM:\n",
        "    def __init__(self, C=1.0, gamma=1.0):\n",
        "        self.C = C\n",
        "        self.gamma = gamma\n",
        "\n",
        "    def fit(self, X, y):\n",
        "        N = X.shape[0]\n",
        "        K = np.dot(X, X.T)\n",
        "        P = cvxopt.matrix(np.outer(y, y) * K)\n",
        "        q = cvxopt.matrix(-1 * np.ones(N))\n",
        "        A = cvxopt.matrix(y, (1, N), 'd')\n",
        "        b = cvxopt.matrix(0.0)\n",
        "\n",
        "        G = cvxopt.matrix(np.vstack((-np.eye(N), np.eye(N))))\n",
        "        h = cvxopt.matrix(np.hstack((np.zeros(N), self.C * np.ones(N))))\n",
        "\n",
        "        solution = cvxopt.solvers.qp(P, q, G, h, A, b)\n",
        "        alphas = np.array(solution['x'])\n",
        "\n",
        "        sv_indices = alphas > 1e-5\n",
        "        self.support_vectors = X[sv_indices.flatten()]\n",
        "        # print(self.support_vectors)\n",
        "        self.support_vector_alphas = alphas[sv_indices]\n",
        "        self.support_vector_labels = y[sv_indices.flatten()]\n",
        "\n",
        "    def dicision_function(self, x):\n",
        "        y = np.array(x)\n",
        "        decision_values = 6\n",
        "        for alpha, sv, sv_label in zip(self.support_vector_alphas, self.support_vectors, self.support_vector_labels):\n",
        "            if not isinstance(sv, str) :\n",
        "                # print(type(sv))\n",
        "                decision_values += float(alpha) * float(sv_label) * np.dot(sv, y)\n",
        "        return decision_values\n",
        "\n",
        "\n",
        "class MulticlassSVM:\n",
        "    def __init__(self, C=1.0, gamma=1.0):\n",
        "        self.C = C\n",
        "        self.gamma = gamma\n",
        "        self.classifiers = {}\n",
        "\n",
        "    def fit(self, X_train, y_train):\n",
        "        classes = np.unique(y_train)\n",
        "        for cls in classes:\n",
        "            y_binary = np.where(y_train == cls, 1, -1)\n",
        "            svm = SoftMarginSVM(C=self.C, gamma=self.gamma)\n",
        "            svm.fit(X_train, y_binary)\n",
        "            self.classifiers[cls] = svm\n",
        "\n",
        "    def predict(self, X_test):\n",
        "        predictions = []\n",
        "\n",
        "        i = 0\n",
        "        for i in range(len(X_test)):\n",
        "            max_confidence = float('-inf')\n",
        "            predicted_class = None\n",
        "            for cls, svm in self.classifiers.items():\n",
        "                confidence = svm.dicision_function(X_test.iloc[i])\n",
        "                if confidence > max_confidence:\n",
        "                    max_confidence = confidence\n",
        "                    predicted_class = cls\n",
        "            i += 1\n",
        "            predictions.append(predicted_class)\n",
        "        return np.array(predictions)\n"
      ]
    },
    {
      "cell_type": "code",
      "execution_count": 174,
      "metadata": {
        "colab": {
          "base_uri": "https://localhost:8080/"
        },
        "id": "VTyLwmcX_IjZ",
        "outputId": "46499436-439f-49ec-bf5a-6de0242281f2"
      },
      "outputs": [
        {
          "name": "stdout",
          "output_type": "stream",
          "text": [
            "{1.0, 2.0, 3.0, 5.0, 6.0}\n"
          ]
        }
      ],
      "source": [
        "print(set(labels[:100]))"
      ]
    },
    {
      "cell_type": "code",
      "execution_count": 175,
      "metadata": {
        "colab": {
          "base_uri": "https://localhost:8080/"
        },
        "id": "5Hbd1_Tw3ULt",
        "outputId": "ae5bda23-5ecf-4754-d174-60cec015b99b"
      },
      "outputs": [
        {
          "name": "stdout",
          "output_type": "stream",
          "text": [
            "Balanced Accuracy: 0.16666666666666666\n",
            "Confusion Matrix:\n",
            " [[35  0  0  0  0  0]\n",
            " [15  0  0  0  0  0]\n",
            " [23  0  0  0  0  0]\n",
            " [16  0  0  0  0  0]\n",
            " [24  0  0  0  0  0]\n",
            " [87  0  0  0  0  0]]\n"
          ]
        }
      ],
      "source": [
        "from sklearn.preprocessing import StandardScaler\n",
        "\n",
        "X_train, X_test, y_train, y_test = train_test_split(features[:1000], labels[:1000], test_size=0.2, random_state=42)\n",
        "\n",
        "scaler = StandardScaler()\n",
        "X_train_scaled = scaler.fit_transform(X_train)\n",
        "X_test_scaled = scaler.transform(X_test)\n",
        "\n",
        "multiclass_svm = MulticlassSVM()\n",
        "multiclass_svm.fit(X_train, y_train)\n",
        "y_pred = multiclass_svm.predict(X_test)\n",
        "\n",
        "accuracy = accuracy_score(y_test, y_pred)\n",
        "balanced_accuracy = balanced_accuracy_score(y_test, y_pred)\n",
        "confusion_mat = confusion_matrix(y_test, y_pred)\n",
        "\n",
        "print(\"Balanced Accuracy:\", balanced_accuracy)\n",
        "print(\"Confusion Matrix:\\n\", confusion_mat)"
      ]
    },
    {
      "cell_type": "markdown",
      "metadata": {
        "id": "tbTw_62YSejt"
      },
      "source": [
        "# Different SVM Kernels (40 points)"
      ]
    },
    {
      "cell_type": "markdown",
      "metadata": {
        "id": "oEt1yI-vSejt"
      },
      "source": [
        "A kernel in SVM is like a tool that helps solve tricky problems. It lets us work in a space with many dimensions, making complex calculations easier. With kernels, we can deal with lots of dimensions, even an endless amount. Kernels are crucial for sorting data into groups and help spot patterns in the data we're looking at. They're especially good at tackling twisty problems with a straightforward approach.\n",
        "\n",
        "Sometimes, finding a straight line or flat surface to divide data isn't possible, especially as we explore more dimensions. That's where different types of SVM kernels come in handy. They transform twisty, complicated data into a simpler form that's easier to separate. In this explanation, we talk about 4 popular types of these kernels. Also in following cells you can use any package.\n",
        "\n",
        "<img src=\"./kernel.jpg\" alt=\"Types of Kernel Functions\"  align=center class=\"saturate\">"
      ]
    },
    {
      "cell_type": "markdown",
      "metadata": {
        "id": "auE9Hs4YSejt"
      },
      "source": [
        "### Linear Kernel"
      ]
    },
    {
      "cell_type": "markdown",
      "metadata": {
        "id": "WFQ773kGSeju"
      },
      "source": [
        "This is the simplest kind of kernel, typically working in one dimension. It works best when dealing with a lot of features. Linear kernels are quicker than other types.\n",
        "\n",
        "**Formula:**\n",
        "\n",
        "$$F(x, x_j) = sum(x, x_j)$$\n",
        "\n",
        "Now Implement svc classifier using a linear kernel. Get the prediction and evaluate it by function which you implemented before. Also plot confusion matrix by `Seaborn`."
      ]
    },
    {
      "cell_type": "code",
      "execution_count": 23,
      "metadata": {
        "colab": {
          "base_uri": "https://localhost:8080/",
          "height": 618
        },
        "id": "mN_x4BjVSekN",
        "outputId": "0bbaecaf-e573-4f73-cd4d-183850022773"
      },
      "outputs": [
        {
          "name": "stdout",
          "output_type": "stream",
          "text": [
            "Linear Kernel:\n",
            "Accuracy: 0.8702408702408703\n",
            "Balanced Accuracy: 0.8250254022511502\n"
          ]
        },
        {
          "data": {
            "image/png": "[encoded data removed]",
            "text/plain": [
              "<Figure size 800x600 with 2 Axes>"
            ]
          },
          "metadata": {},
          "output_type": "display_data"
        }
      ],
      "source": [
        "# TODO: Write your code here\n",
        "svc_linear = SVC(kernel='linear', C=10)\n",
        "svc_linear.fit(X_train, y_train)\n",
        "y_pred_linear = svc_linear.predict(X_test)\n",
        "accuracy_linear, balanced_accuracy_linear, confusion_mat_linear = evaluate_model(y_test, y_pred_linear)\n",
        "\n",
        "print(\"Linear Kernel:\")\n",
        "print(\"Accuracy:\", accuracy_linear)\n",
        "print(\"Balanced Accuracy:\", balanced_accuracy_linear)\n",
        "\n",
        "plt.figure(figsize=(8, 6))\n",
        "sns.heatmap(confusion_mat_linear, annot=True, fmt=\"d\", cmap=\"Blues\", xticklabels=np.unique(y_test), yticklabels=np.unique(y_test))\n",
        "plt.xlabel(\"Predicted Label\")\n",
        "plt.ylabel(\"True Label\")\n",
        "plt.title(\"Confusion Matrix - Linear Kernel\")\n",
        "plt.show()"
      ]
    },
    {
      "cell_type": "markdown",
      "metadata": {
        "id": "pwfCfXUGSekO"
      },
      "source": [
        "### Gaussian RBF kernel"
      ]
    },
    {
      "cell_type": "markdown",
      "metadata": {
        "id": "ExWVbdwISekO"
      },
      "source": [
        "This kernel is a favorite choice in SVM, especially for data that doesn't line up straight. It's great for sorting data when you don't know much about it beforehand.\n",
        "\n",
        "**Formula:**\n",
        "\n",
        "$$F(x, x_j) = \\exp{(-\\gamma ||x - xj||^2)}$$\n",
        "\n",
        "Now, configure the SVC classifier with a sigmoid kernel. Get the prediction and evaluate it by function which you implemented before. Also plot confusion matrix as previous part."
      ]
    },
    {
      "cell_type": "code",
      "execution_count": 24,
      "metadata": {
        "colab": {
          "base_uri": "https://localhost:8080/",
          "height": 618
        },
        "id": "JdRnv5a1SekP",
        "outputId": "099e1fb7-bfc9-495b-ba07-681e948f1177"
      },
      "outputs": [
        {
          "name": "stdout",
          "output_type": "stream",
          "text": [
            "RBF Kernel:\n",
            "Accuracy: 0.9028749028749029\n",
            "Balanced Accuracy: 0.8664762388974546\n"
          ]
        },
        {
          "data": {
            "image/png": "[encoded data removed]",
            "text/plain": [
              "<Figure size 800x600 with 2 Axes>"
            ]
          },
          "metadata": {},
          "output_type": "display_data"
        }
      ],
      "source": [
        "# TODO: Write your code here\n",
        "svc_rbf = SVC(kernel='rbf', C=10, gamma=0.01)\n",
        "svc_rbf.fit(X_train, y_train)\n",
        "y_pred_rbf = svc_rbf.predict(X_test)\n",
        "accuracy_rbf, balanced_accuracy_rbf, confusion_mat_rbf = evaluate_model(y_test, y_pred_rbf)\n",
        "\n",
        "print(\"RBF Kernel:\")\n",
        "print(\"Accuracy:\", accuracy_rbf)\n",
        "print(\"Balanced Accuracy:\", balanced_accuracy_rbf)\n",
        "\n",
        "plt.figure(figsize=(8, 6))\n",
        "sns.heatmap(confusion_mat_rbf, annot=True, fmt=\"d\", cmap=\"Blues\", xticklabels=np.unique(y_test), yticklabels=np.unique(y_test))\n",
        "plt.xlabel(\"Predicted Label\")\n",
        "plt.ylabel(\"True Label\")\n",
        "plt.title(\"Confusion Matrix - RBF Kernel\")\n",
        "plt.show()"
      ]
    },
    {
      "cell_type": "markdown",
      "metadata": {
        "id": "ubF5flzFSekQ"
      },
      "source": [
        "### Polynomial Kernel"
      ]
    },
    {
      "cell_type": "markdown",
      "metadata": {
        "id": "dtbJ5jmySekQ"
      },
      "source": [
        "This is a broader version of the linear kernel. It's not as popular because it's not as quick or precise.\n",
        "\n",
        "**Formula:**\n",
        "\n",
        "$$F(x, x_j) = (x.x_j+1)^d$$\n",
        "\n",
        "Now, set up the SVC classifier using a *polynomial* kernel. Get the prediction and evaluate it by function which you implemented before. Also plot confusion matrix as previous parts."
      ]
    },
    {
      "cell_type": "code",
      "execution_count": 25,
      "metadata": {
        "colab": {
          "base_uri": "https://localhost:8080/",
          "height": 618
        },
        "id": "sofoeMAESekQ",
        "outputId": "7dc51aa2-253b-45ce-cd0d-beb3d98a2b11"
      },
      "outputs": [
        {
          "name": "stdout",
          "output_type": "stream",
          "text": [
            "Polynomial Kernel:\n",
            "Accuracy: 0.9028749028749029\n",
            "Balanced Accuracy: 0.8731838698714193\n"
          ]
        },
        {
          "data": {
            "image/png": "[encoded data removed]",
            "text/plain": [
              "<Figure size 800x600 with 2 Axes>"
            ]
          },
          "metadata": {},
          "output_type": "display_data"
        }
      ],
      "source": [
        "# TODO: Write your code here\n",
        "# Create SVC classifier with polynomial kernel\n",
        "svc_poly = SVC(kernel='poly', degree=3, gamma=0.01, C=10)\n",
        "svc_poly.fit(X_train, y_train)\n",
        "y_pred_poly = svc_poly.predict(X_test)\n",
        "accuracy_poly, balanced_accuracy_poly, confusion_mat_poly = evaluate_model(y_test, y_pred_poly)\n",
        "\n",
        "print(\"Polynomial Kernel:\")\n",
        "print(\"Accuracy:\", accuracy_poly)\n",
        "print(\"Balanced Accuracy:\", balanced_accuracy_poly)\n",
        "\n",
        "plt.figure(figsize=(8, 6))\n",
        "sns.heatmap(confusion_mat_poly, annot=True, fmt=\"d\", cmap=\"Blues\", xticklabels=np.unique(y_test), yticklabels=np.unique(y_test))\n",
        "plt.xlabel(\"Predicted Label\")\n",
        "plt.ylabel(\"True Label\")\n",
        "plt.title(\"Confusion Matrix - Polynomial Kernel\")\n",
        "plt.show()\n"
      ]
    },
    {
      "cell_type": "markdown",
      "metadata": {
        "id": "DlYucg2KSekR"
      },
      "source": [
        "### Sigmoid Kernel"
      ]
    },
    {
      "cell_type": "markdown",
      "metadata": {
        "id": "zIPbJMWvSekR"
      },
      "source": [
        "This is mainly chosen for use with neural networks. The kernel function acts like the activation function in a two-layer perceptron neural network model, helping to activate the neurons.\n",
        "\n",
        "**Formula:**\n",
        "\n",
        "$$F(x, x_j) = \\tanh(α x a y + c)$$\n",
        "\n",
        "Now, configure the SVC classifier with a sigmoid kernel. Get the prediction and evaluate it by function which you implemented before. Also plot confusion matrix as previous parts."
      ]
    },
    {
      "cell_type": "code",
      "execution_count": 31,
      "metadata": {
        "colab": {
          "base_uri": "https://localhost:8080/",
          "height": 618
        },
        "id": "v956iWshSekS",
        "outputId": "5e985c21-6c8a-4f1c-92b6-246e2a2eea94"
      },
      "outputs": [
        {
          "name": "stdout",
          "output_type": "stream",
          "text": [
            "Sigmoid Kernel:\n",
            "Accuracy: 0.578088578088578\n",
            "Balanced Accuracy: 0.5254488654249293\n"
          ]
        },
        {
          "data": {
            "image/png": "[encoded data removed]",
            "text/plain": [
              "<Figure size 800x600 with 2 Axes>"
            ]
          },
          "metadata": {},
          "output_type": "display_data"
        }
      ],
      "source": [
        "# TODO: Write your code here\n",
        "svc_sigmoid = SVC(kernel='sigmoid')\n",
        "svc_sigmoid.fit(X_train, y_train)\n",
        "y_pred_sigmoid = svc_sigmoid.predict(X_test)\n",
        "accuracy_sigmoid, balanced_accuracy_sigmoid, confusion_mat_sigmoid = evaluate_model(y_test, y_pred_sigmoid)\n",
        "\n",
        "print(\"Sigmoid Kernel:\")\n",
        "print(\"Accuracy:\", accuracy_sigmoid)\n",
        "print(\"Balanced Accuracy:\", balanced_accuracy_sigmoid)\n",
        "\n",
        "plt.figure(figsize=(8, 6))\n",
        "sns.heatmap(confusion_mat_sigmoid, annot=True, fmt=\"d\", cmap=\"Blues\", xticklabels=np.unique(y_test), yticklabels=np.unique(y_test))\n",
        "plt.xlabel(\"Predicted Label\")\n",
        "plt.ylabel(\"True Label\")\n",
        "plt.title(\"Confusion Matrix - Sigmoid Kernel\")\n",
        "plt.show()"
      ]
    },
    {
      "cell_type": "markdown",
      "metadata": {
        "id": "kGOLFbEXSekT"
      },
      "source": [
        "Compare these four kernel functions with each other. What are the main advantages and disadvantages of each one?"
      ]
    },
    {
      "cell_type": "markdown",
      "metadata": {
        "id": "9QRJkTyDSekT"
      },
      "source": [
        "these kernel functions offer various trade-offs in terms of computational efficiency, flexibility, and ability to capture complex patterns in data. linear kernel is simple and efficient, suitable for linearly separable data, but struggles with non-linear datasets. The polynomial kernel captures non-linear relationships and offers flexibility in decision boundaries, but it is computationally expensive and prone to overfitting.Gaussian RBF kernel is highly flexible and capable of capturing complex non-linear patterns, but it requires significant computational resources and is sensitive to hyperparameters. The sigmoid kernel can handle non-linearly separable data but is less common and more prone to convergence issues, requiring careful hyperparameter tuning."
      ]
    },
    {
      "cell_type": "code",
      "execution_count": 26,
      "metadata": {
        "id": "2JS-GA-41ZUc"
      },
      "outputs": [],
      "source": []
    }
  ],
  "metadata": {
    "colab": {
      "provenance": []
    },
    "kernelspec": {
      "display_name": "Python 3",
      "language": "python",
      "name": "python3"
    },
    "language_info": {
      "codemirror_mode": {
        "name": "ipython",
        "version": 3
      },
      "file_extension": ".py",
      "mimetype": "text/x-python",
      "name": "python",
      "nbconvert_exporter": "python",
      "pygments_lexer": "ipython3",
      "version": "3.11.2"
    }
  },
  "nbformat": 4,
  "nbformat_minor": 0
}
