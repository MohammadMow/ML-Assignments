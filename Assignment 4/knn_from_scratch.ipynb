{
  "cells": [
    {
      "cell_type": "markdown",
      "metadata": {
        "id": "Nj1p5CrzFjIn"
      },
      "source": [
        "# Practicel ML - KNN"
      ]
    },
    {
      "cell_type": "markdown",
      "metadata": {
        "id": "Zae2PglXFjIo"
      },
      "source": [
        "### Full Name : Mohammad Mowlavi\n",
        "### Student Number : "
      ]
    },
    {
      "cell_type": "markdown",
      "metadata": {
        "id": "N4a4kfaXFjIp"
      },
      "source": [
        "In this Notebook, we will implement KNN for the given dataset. This notebook has 3 phases, in the first phase we explore dataset, in the second phase we preprocess the dataset and in the last phase we implement KNN from scratch and also with sklearn and train it on the dataset."
      ]
    },
    {
      "cell_type": "code",
      "execution_count": 49,
      "metadata": {
        "colab": {
          "base_uri": "https://localhost:8080/"
        },
        "id": "GoXTTnvqGsaD",
        "outputId": "01be80df-80c4-4aa7-9e7f-b19a9541c534"
      },
      "outputs": [
        {
          "name": "stdout",
          "output_type": "stream",
          "text": [
            "Drive already mounted at /content/drive; to attempt to forcibly remount, call drive.mount(\"/content/drive\", force_remount=True).\n"
          ]
        }
      ],
      "source": [
        "from google.colab import drive\n",
        "drive.mount('/content/drive')"
      ]
    },
    {
      "cell_type": "code",
      "execution_count": 50,
      "metadata": {
        "id": "fi1A-J3YFjIp"
      },
      "outputs": [],
      "source": [
        "import numpy as np\n",
        "import pandas as pd\n",
        "import matplotlib.pyplot as plt\n",
        "import seaborn as sns\n",
        "from sklearn.model_selection import train_test_split\n",
        "from sklearn.preprocessing import LabelEncoder"
      ]
    },
    {
      "cell_type": "markdown",
      "metadata": {
        "id": "9fM-uG3FFjIq"
      },
      "source": [
        "Inspect the first rows of the dataframe"
      ]
    },
    {
      "cell_type": "code",
      "execution_count": 51,
      "metadata": {
        "id": "NpwjUnyMTpDn"
      },
      "outputs": [],
      "source": [
        "path = '/content/drive/MyDrive/train.csv'\n",
        "df = pd.read_csv(path)"
      ]
    },
    {
      "cell_type": "code",
      "execution_count": 52,
      "metadata": {
        "colab": {
          "base_uri": "https://localhost:8080/",
          "height": 530
        },
        "id": "jvuUbPOr6PXl",
        "outputId": "a1e7f42d-0f14-4993-e319-6830859edf04"
      },
      "outputs": [
        {
          "data": {
            "application/vnd.google.colaboratory.intrinsic+json": {
              "type": "dataframe",
              "variable_name": "df"
            },
            "text/html": [
              "\n",
              "  <div id=\"df-3a7ae5e0-6e77-4e5b-9ef8-3b34fa4e59f2\" class=\"colab-df-container\">\n",
              "    <div>\n",
              "<style scoped>\n",
              "    .dataframe tbody tr th:only-of-type {\n",
              "        vertical-align: middle;\n",
              "    }\n",
              "\n",
              "    .dataframe tbody tr th {\n",
              "        vertical-align: top;\n",
              "    }\n",
              "\n",
              "    .dataframe thead th {\n",
              "        text-align: right;\n",
              "    }\n",
              "</style>\n",
              "<table border=\"1\" class=\"dataframe\">\n",
              "  <thead>\n",
              "    <tr style=\"text-align: right;\">\n",
              "      <th></th>\n",
              "      <th>Age</th>\n",
              "      <th>Attrition</th>\n",
              "      <th>BusinessTravel</th>\n",
              "      <th>DailyRate</th>\n",
              "      <th>Department</th>\n",
              "      <th>DistanceFromHome</th>\n",
              "      <th>Education</th>\n",
              "      <th>EducationField</th>\n",
              "      <th>EmployeeCount</th>\n",
              "      <th>EmployeeNumber</th>\n",
              "      <th>...</th>\n",
              "      <th>RelationshipSatisfaction</th>\n",
              "      <th>StandardHours</th>\n",
              "      <th>StockOptionLevel</th>\n",
              "      <th>TotalWorkingYears</th>\n",
              "      <th>TrainingTimesLastYear</th>\n",
              "      <th>WorkLifeBalance</th>\n",
              "      <th>YearsAtCompany</th>\n",
              "      <th>YearsInCurrentRole</th>\n",
              "      <th>YearsSinceLastPromotion</th>\n",
              "      <th>YearsWithCurrManager</th>\n",
              "    </tr>\n",
              "  </thead>\n",
              "  <tbody>\n",
              "    <tr>\n",
              "      <th>0</th>\n",
              "      <td>29</td>\n",
              "      <td>No</td>\n",
              "      <td>Travel_Rarely</td>\n",
              "      <td>592</td>\n",
              "      <td>Research &amp; Development</td>\n",
              "      <td>7</td>\n",
              "      <td>3</td>\n",
              "      <td>Life Sciences</td>\n",
              "      <td>1</td>\n",
              "      <td>1883</td>\n",
              "      <td>...</td>\n",
              "      <td>2</td>\n",
              "      <td>80</td>\n",
              "      <td>0</td>\n",
              "      <td>11</td>\n",
              "      <td>2</td>\n",
              "      <td>3</td>\n",
              "      <td>3</td>\n",
              "      <td>2</td>\n",
              "      <td>1</td>\n",
              "      <td>2</td>\n",
              "    </tr>\n",
              "    <tr>\n",
              "      <th>1</th>\n",
              "      <td>36</td>\n",
              "      <td>No</td>\n",
              "      <td>Travel_Rarely</td>\n",
              "      <td>884</td>\n",
              "      <td>Sales</td>\n",
              "      <td>1</td>\n",
              "      <td>4</td>\n",
              "      <td>Life Sciences</td>\n",
              "      <td>1</td>\n",
              "      <td>1585</td>\n",
              "      <td>...</td>\n",
              "      <td>1</td>\n",
              "      <td>80</td>\n",
              "      <td>0</td>\n",
              "      <td>15</td>\n",
              "      <td>5</td>\n",
              "      <td>3</td>\n",
              "      <td>1</td>\n",
              "      <td>0</td>\n",
              "      <td>0</td>\n",
              "      <td>0</td>\n",
              "    </tr>\n",
              "    <tr>\n",
              "      <th>2</th>\n",
              "      <td>34</td>\n",
              "      <td>No</td>\n",
              "      <td>Travel_Rarely</td>\n",
              "      <td>1326</td>\n",
              "      <td>Sales</td>\n",
              "      <td>3</td>\n",
              "      <td>3</td>\n",
              "      <td>Other</td>\n",
              "      <td>1</td>\n",
              "      <td>1478</td>\n",
              "      <td>...</td>\n",
              "      <td>4</td>\n",
              "      <td>80</td>\n",
              "      <td>0</td>\n",
              "      <td>15</td>\n",
              "      <td>2</td>\n",
              "      <td>3</td>\n",
              "      <td>13</td>\n",
              "      <td>9</td>\n",
              "      <td>3</td>\n",
              "      <td>12</td>\n",
              "    </tr>\n",
              "    <tr>\n",
              "      <th>3</th>\n",
              "      <td>27</td>\n",
              "      <td>No</td>\n",
              "      <td>Travel_Rarely</td>\n",
              "      <td>954</td>\n",
              "      <td>Sales</td>\n",
              "      <td>9</td>\n",
              "      <td>3</td>\n",
              "      <td>Marketing</td>\n",
              "      <td>1</td>\n",
              "      <td>1965</td>\n",
              "      <td>...</td>\n",
              "      <td>1</td>\n",
              "      <td>80</td>\n",
              "      <td>0</td>\n",
              "      <td>7</td>\n",
              "      <td>5</td>\n",
              "      <td>3</td>\n",
              "      <td>7</td>\n",
              "      <td>7</td>\n",
              "      <td>0</td>\n",
              "      <td>7</td>\n",
              "    </tr>\n",
              "    <tr>\n",
              "      <th>4</th>\n",
              "      <td>32</td>\n",
              "      <td>No</td>\n",
              "      <td>Travel_Rarely</td>\n",
              "      <td>929</td>\n",
              "      <td>Sales</td>\n",
              "      <td>10</td>\n",
              "      <td>3</td>\n",
              "      <td>Marketing</td>\n",
              "      <td>1</td>\n",
              "      <td>722</td>\n",
              "      <td>...</td>\n",
              "      <td>4</td>\n",
              "      <td>80</td>\n",
              "      <td>0</td>\n",
              "      <td>10</td>\n",
              "      <td>2</td>\n",
              "      <td>2</td>\n",
              "      <td>10</td>\n",
              "      <td>7</td>\n",
              "      <td>0</td>\n",
              "      <td>8</td>\n",
              "    </tr>\n",
              "    <tr>\n",
              "      <th>...</th>\n",
              "      <td>...</td>\n",
              "      <td>...</td>\n",
              "      <td>...</td>\n",
              "      <td>...</td>\n",
              "      <td>...</td>\n",
              "      <td>...</td>\n",
              "      <td>...</td>\n",
              "      <td>...</td>\n",
              "      <td>...</td>\n",
              "      <td>...</td>\n",
              "      <td>...</td>\n",
              "      <td>...</td>\n",
              "      <td>...</td>\n",
              "      <td>...</td>\n",
              "      <td>...</td>\n",
              "      <td>...</td>\n",
              "      <td>...</td>\n",
              "      <td>...</td>\n",
              "      <td>...</td>\n",
              "      <td>...</td>\n",
              "      <td>...</td>\n",
              "    </tr>\n",
              "    <tr>\n",
              "      <th>1097</th>\n",
              "      <td>35</td>\n",
              "      <td>No</td>\n",
              "      <td>Travel_Rarely</td>\n",
              "      <td>750</td>\n",
              "      <td>Research &amp; Development</td>\n",
              "      <td>28</td>\n",
              "      <td>3</td>\n",
              "      <td>Life Sciences</td>\n",
              "      <td>1</td>\n",
              "      <td>1596</td>\n",
              "      <td>...</td>\n",
              "      <td>4</td>\n",
              "      <td>80</td>\n",
              "      <td>2</td>\n",
              "      <td>10</td>\n",
              "      <td>3</td>\n",
              "      <td>2</td>\n",
              "      <td>10</td>\n",
              "      <td>9</td>\n",
              "      <td>6</td>\n",
              "      <td>8</td>\n",
              "    </tr>\n",
              "    <tr>\n",
              "      <th>1098</th>\n",
              "      <td>41</td>\n",
              "      <td>No</td>\n",
              "      <td>Travel_Rarely</td>\n",
              "      <td>447</td>\n",
              "      <td>Research &amp; Development</td>\n",
              "      <td>5</td>\n",
              "      <td>3</td>\n",
              "      <td>Life Sciences</td>\n",
              "      <td>1</td>\n",
              "      <td>1814</td>\n",
              "      <td>...</td>\n",
              "      <td>1</td>\n",
              "      <td>80</td>\n",
              "      <td>0</td>\n",
              "      <td>11</td>\n",
              "      <td>3</td>\n",
              "      <td>1</td>\n",
              "      <td>3</td>\n",
              "      <td>2</td>\n",
              "      <td>1</td>\n",
              "      <td>2</td>\n",
              "    </tr>\n",
              "    <tr>\n",
              "      <th>1099</th>\n",
              "      <td>22</td>\n",
              "      <td>Yes</td>\n",
              "      <td>Travel_Frequently</td>\n",
              "      <td>1256</td>\n",
              "      <td>Research &amp; Development</td>\n",
              "      <td>3</td>\n",
              "      <td>4</td>\n",
              "      <td>Life Sciences</td>\n",
              "      <td>1</td>\n",
              "      <td>1203</td>\n",
              "      <td>...</td>\n",
              "      <td>2</td>\n",
              "      <td>80</td>\n",
              "      <td>1</td>\n",
              "      <td>1</td>\n",
              "      <td>5</td>\n",
              "      <td>3</td>\n",
              "      <td>0</td>\n",
              "      <td>0</td>\n",
              "      <td>0</td>\n",
              "      <td>0</td>\n",
              "    </tr>\n",
              "    <tr>\n",
              "      <th>1100</th>\n",
              "      <td>29</td>\n",
              "      <td>No</td>\n",
              "      <td>Travel_Rarely</td>\n",
              "      <td>1378</td>\n",
              "      <td>Research &amp; Development</td>\n",
              "      <td>13</td>\n",
              "      <td>2</td>\n",
              "      <td>Other</td>\n",
              "      <td>1</td>\n",
              "      <td>2053</td>\n",
              "      <td>...</td>\n",
              "      <td>1</td>\n",
              "      <td>80</td>\n",
              "      <td>1</td>\n",
              "      <td>10</td>\n",
              "      <td>2</td>\n",
              "      <td>3</td>\n",
              "      <td>4</td>\n",
              "      <td>3</td>\n",
              "      <td>0</td>\n",
              "      <td>3</td>\n",
              "    </tr>\n",
              "    <tr>\n",
              "      <th>1101</th>\n",
              "      <td>50</td>\n",
              "      <td>No</td>\n",
              "      <td>Travel_Rarely</td>\n",
              "      <td>264</td>\n",
              "      <td>Sales</td>\n",
              "      <td>9</td>\n",
              "      <td>3</td>\n",
              "      <td>Marketing</td>\n",
              "      <td>1</td>\n",
              "      <td>1591</td>\n",
              "      <td>...</td>\n",
              "      <td>3</td>\n",
              "      <td>80</td>\n",
              "      <td>1</td>\n",
              "      <td>27</td>\n",
              "      <td>2</td>\n",
              "      <td>3</td>\n",
              "      <td>1</td>\n",
              "      <td>0</td>\n",
              "      <td>0</td>\n",
              "      <td>0</td>\n",
              "    </tr>\n",
              "  </tbody>\n",
              "</table>\n",
              "<p>1102 rows × 35 columns</p>\n",
              "</div>\n",
              "    <div class=\"colab-df-buttons\">\n",
              "\n",
              "  <div class=\"colab-df-container\">\n",
              "    <button class=\"colab-df-convert\" onclick=\"convertToInteractive('df-3a7ae5e0-6e77-4e5b-9ef8-3b34fa4e59f2')\"\n",
              "            title=\"Convert this dataframe to an interactive table.\"\n",
              "            style=\"display:none;\">\n",
              "\n",
              "  <svg xmlns=\"http://www.w3.org/2000/svg\" height=\"24px\" viewBox=\"0 -960 960 960\">\n",
              "    <path d=\"M120-120v-720h720v720H120Zm60-500h600v-160H180v160Zm220 220h160v-160H400v160Zm0 220h160v-160H400v160ZM180-400h160v-160H180v160Zm440 0h160v-160H620v160ZM180-180h160v-160H180v160Zm440 0h160v-160H620v160Z\"/>\n",
              "  </svg>\n",
              "    </button>\n",
              "\n",
              "  <style>\n",
              "    .colab-df-container {\n",
              "      display:flex;\n",
              "      gap: 12px;\n",
              "    }\n",
              "\n",
              "    .colab-df-convert {\n",
              "      background-color: #E8F0FE;\n",
              "      border: none;\n",
              "      border-radius: 50%;\n",
              "      cursor: pointer;\n",
              "      display: none;\n",
              "      fill: #1967D2;\n",
              "      height: 32px;\n",
              "      padding: 0 0 0 0;\n",
              "      width: 32px;\n",
              "    }\n",
              "\n",
              "    .colab-df-convert:hover {\n",
              "      background-color: #E2EBFA;\n",
              "      box-shadow: 0px 1px 2px rgba(60, 64, 67, 0.3), 0px 1px 3px 1px rgba(60, 64, 67, 0.15);\n",
              "      fill: #174EA6;\n",
              "    }\n",
              "\n",
              "    .colab-df-buttons div {\n",
              "      margin-bottom: 4px;\n",
              "    }\n",
              "\n",
              "    [theme=dark] .colab-df-convert {\n",
              "      background-color: #3B4455;\n",
              "      fill: #D2E3FC;\n",
              "    }\n",
              "\n",
              "    [theme=dark] .colab-df-convert:hover {\n",
              "      background-color: #434B5C;\n",
              "      box-shadow: 0px 1px 3px 1px rgba(0, 0, 0, 0.15);\n",
              "      filter: drop-shadow(0px 1px 2px rgba(0, 0, 0, 0.3));\n",
              "      fill: #FFFFFF;\n",
              "    }\n",
              "  </style>\n",
              "\n",
              "    <script>\n",
              "      const buttonEl =\n",
              "        document.querySelector('#df-3a7ae5e0-6e77-4e5b-9ef8-3b34fa4e59f2 button.colab-df-convert');\n",
              "      buttonEl.style.display =\n",
              "        google.colab.kernel.accessAllowed ? 'block' : 'none';\n",
              "\n",
              "      async function convertToInteractive(key) {\n",
              "        const element = document.querySelector('#df-3a7ae5e0-6e77-4e5b-9ef8-3b34fa4e59f2');\n",
              "        const dataTable =\n",
              "          await google.colab.kernel.invokeFunction('convertToInteractive',\n",
              "                                                    [key], {});\n",
              "        if (!dataTable) return;\n",
              "\n",
              "        const docLinkHtml = 'Like what you see? Visit the ' +\n",
              "          '<a target=\"_blank\" href=https://colab.research.google.com/notebooks/data_table.ipynb>data table notebook</a>'\n",
              "          + ' to learn more about interactive tables.';\n",
              "        element.innerHTML = '';\n",
              "        dataTable['output_type'] = 'display_data';\n",
              "        await google.colab.output.renderOutput(dataTable, element);\n",
              "        const docLink = document.createElement('div');\n",
              "        docLink.innerHTML = docLinkHtml;\n",
              "        element.appendChild(docLink);\n",
              "      }\n",
              "    </script>\n",
              "  </div>\n",
              "\n",
              "\n",
              "<div id=\"df-032694bd-24a8-4020-ae73-38b029c9104b\">\n",
              "  <button class=\"colab-df-quickchart\" onclick=\"quickchart('df-032694bd-24a8-4020-ae73-38b029c9104b')\"\n",
              "            title=\"Suggest charts\"\n",
              "            style=\"display:none;\">\n",
              "\n",
              "<svg xmlns=\"http://www.w3.org/2000/svg\" height=\"24px\"viewBox=\"0 0 24 24\"\n",
              "     width=\"24px\">\n",
              "    <g>\n",
              "        <path d=\"M19 3H5c-1.1 0-2 .9-2 2v14c0 1.1.9 2 2 2h14c1.1 0 2-.9 2-2V5c0-1.1-.9-2-2-2zM9 17H7v-7h2v7zm4 0h-2V7h2v10zm4 0h-2v-4h2v4z\"/>\n",
              "    </g>\n",
              "</svg>\n",
              "  </button>\n",
              "\n",
              "<style>\n",
              "  .colab-df-quickchart {\n",
              "      --bg-color: #E8F0FE;\n",
              "      --fill-color: #1967D2;\n",
              "      --hover-bg-color: #E2EBFA;\n",
              "      --hover-fill-color: #174EA6;\n",
              "      --disabled-fill-color: #AAA;\n",
              "      --disabled-bg-color: #DDD;\n",
              "  }\n",
              "\n",
              "  [theme=dark] .colab-df-quickchart {\n",
              "      --bg-color: #3B4455;\n",
              "      --fill-color: #D2E3FC;\n",
              "      --hover-bg-color: #434B5C;\n",
              "      --hover-fill-color: #FFFFFF;\n",
              "      --disabled-bg-color: #3B4455;\n",
              "      --disabled-fill-color: #666;\n",
              "  }\n",
              "\n",
              "  .colab-df-quickchart {\n",
              "    background-color: var(--bg-color);\n",
              "    border: none;\n",
              "    border-radius: 50%;\n",
              "    cursor: pointer;\n",
              "    display: none;\n",
              "    fill: var(--fill-color);\n",
              "    height: 32px;\n",
              "    padding: 0;\n",
              "    width: 32px;\n",
              "  }\n",
              "\n",
              "  .colab-df-quickchart:hover {\n",
              "    background-color: var(--hover-bg-color);\n",
              "    box-shadow: 0 1px 2px rgba(60, 64, 67, 0.3), 0 1px 3px 1px rgba(60, 64, 67, 0.15);\n",
              "    fill: var(--button-hover-fill-color);\n",
              "  }\n",
              "\n",
              "  .colab-df-quickchart-complete:disabled,\n",
              "  .colab-df-quickchart-complete:disabled:hover {\n",
              "    background-color: var(--disabled-bg-color);\n",
              "    fill: var(--disabled-fill-color);\n",
              "    box-shadow: none;\n",
              "  }\n",
              "\n",
              "  .colab-df-spinner {\n",
              "    border: 2px solid var(--fill-color);\n",
              "    border-color: transparent;\n",
              "    border-bottom-color: var(--fill-color);\n",
              "    animation:\n",
              "      spin 1s steps(1) infinite;\n",
              "  }\n",
              "\n",
              "  @keyframes spin {\n",
              "    0% {\n",
              "      border-color: transparent;\n",
              "      border-bottom-color: var(--fill-color);\n",
              "      border-left-color: var(--fill-color);\n",
              "    }\n",
              "    20% {\n",
              "      border-color: transparent;\n",
              "      border-left-color: var(--fill-color);\n",
              "      border-top-color: var(--fill-color);\n",
              "    }\n",
              "    30% {\n",
              "      border-color: transparent;\n",
              "      border-left-color: var(--fill-color);\n",
              "      border-top-color: var(--fill-color);\n",
              "      border-right-color: var(--fill-color);\n",
              "    }\n",
              "    40% {\n",
              "      border-color: transparent;\n",
              "      border-right-color: var(--fill-color);\n",
              "      border-top-color: var(--fill-color);\n",
              "    }\n",
              "    60% {\n",
              "      border-color: transparent;\n",
              "      border-right-color: var(--fill-color);\n",
              "    }\n",
              "    80% {\n",
              "      border-color: transparent;\n",
              "      border-right-color: var(--fill-color);\n",
              "      border-bottom-color: var(--fill-color);\n",
              "    }\n",
              "    90% {\n",
              "      border-color: transparent;\n",
              "      border-bottom-color: var(--fill-color);\n",
              "    }\n",
              "  }\n",
              "</style>\n",
              "\n",
              "  <script>\n",
              "    async function quickchart(key) {\n",
              "      const quickchartButtonEl =\n",
              "        document.querySelector('#' + key + ' button');\n",
              "      quickchartButtonEl.disabled = true;  // To prevent multiple clicks.\n",
              "      quickchartButtonEl.classList.add('colab-df-spinner');\n",
              "      try {\n",
              "        const charts = await google.colab.kernel.invokeFunction(\n",
              "            'suggestCharts', [key], {});\n",
              "      } catch (error) {\n",
              "        console.error('Error during call to suggestCharts:', error);\n",
              "      }\n",
              "      quickchartButtonEl.classList.remove('colab-df-spinner');\n",
              "      quickchartButtonEl.classList.add('colab-df-quickchart-complete');\n",
              "    }\n",
              "    (() => {\n",
              "      let quickchartButtonEl =\n",
              "        document.querySelector('#df-032694bd-24a8-4020-ae73-38b029c9104b button');\n",
              "      quickchartButtonEl.style.display =\n",
              "        google.colab.kernel.accessAllowed ? 'block' : 'none';\n",
              "    })();\n",
              "  </script>\n",
              "</div>\n",
              "    </div>\n",
              "  </div>\n"
            ],
            "text/plain": [
              "      Age Attrition     BusinessTravel  DailyRate              Department  \\\n",
              "0      29        No      Travel_Rarely        592  Research & Development   \n",
              "1      36        No      Travel_Rarely        884                   Sales   \n",
              "2      34        No      Travel_Rarely       1326                   Sales   \n",
              "3      27        No      Travel_Rarely        954                   Sales   \n",
              "4      32        No      Travel_Rarely        929                   Sales   \n",
              "...   ...       ...                ...        ...                     ...   \n",
              "1097   35        No      Travel_Rarely        750  Research & Development   \n",
              "1098   41        No      Travel_Rarely        447  Research & Development   \n",
              "1099   22       Yes  Travel_Frequently       1256  Research & Development   \n",
              "1100   29        No      Travel_Rarely       1378  Research & Development   \n",
              "1101   50        No      Travel_Rarely        264                   Sales   \n",
              "\n",
              "      DistanceFromHome  Education EducationField  EmployeeCount  \\\n",
              "0                    7          3  Life Sciences              1   \n",
              "1                    1          4  Life Sciences              1   \n",
              "2                    3          3          Other              1   \n",
              "3                    9          3      Marketing              1   \n",
              "4                   10          3      Marketing              1   \n",
              "...                ...        ...            ...            ...   \n",
              "1097                28          3  Life Sciences              1   \n",
              "1098                 5          3  Life Sciences              1   \n",
              "1099                 3          4  Life Sciences              1   \n",
              "1100                13          2          Other              1   \n",
              "1101                 9          3      Marketing              1   \n",
              "\n",
              "      EmployeeNumber  ...  RelationshipSatisfaction StandardHours  \\\n",
              "0               1883  ...                         2            80   \n",
              "1               1585  ...                         1            80   \n",
              "2               1478  ...                         4            80   \n",
              "3               1965  ...                         1            80   \n",
              "4                722  ...                         4            80   \n",
              "...              ...  ...                       ...           ...   \n",
              "1097            1596  ...                         4            80   \n",
              "1098            1814  ...                         1            80   \n",
              "1099            1203  ...                         2            80   \n",
              "1100            2053  ...                         1            80   \n",
              "1101            1591  ...                         3            80   \n",
              "\n",
              "      StockOptionLevel  TotalWorkingYears  TrainingTimesLastYear  \\\n",
              "0                    0                 11                      2   \n",
              "1                    0                 15                      5   \n",
              "2                    0                 15                      2   \n",
              "3                    0                  7                      5   \n",
              "4                    0                 10                      2   \n",
              "...                ...                ...                    ...   \n",
              "1097                 2                 10                      3   \n",
              "1098                 0                 11                      3   \n",
              "1099                 1                  1                      5   \n",
              "1100                 1                 10                      2   \n",
              "1101                 1                 27                      2   \n",
              "\n",
              "     WorkLifeBalance  YearsAtCompany YearsInCurrentRole  \\\n",
              "0                  3               3                  2   \n",
              "1                  3               1                  0   \n",
              "2                  3              13                  9   \n",
              "3                  3               7                  7   \n",
              "4                  2              10                  7   \n",
              "...              ...             ...                ...   \n",
              "1097               2              10                  9   \n",
              "1098               1               3                  2   \n",
              "1099               3               0                  0   \n",
              "1100               3               4                  3   \n",
              "1101               3               1                  0   \n",
              "\n",
              "      YearsSinceLastPromotion  YearsWithCurrManager  \n",
              "0                           1                     2  \n",
              "1                           0                     0  \n",
              "2                           3                    12  \n",
              "3                           0                     7  \n",
              "4                           0                     8  \n",
              "...                       ...                   ...  \n",
              "1097                        6                     8  \n",
              "1098                        1                     2  \n",
              "1099                        0                     0  \n",
              "1100                        0                     3  \n",
              "1101                        0                     0  \n",
              "\n",
              "[1102 rows x 35 columns]"
            ]
          },
          "execution_count": 52,
          "metadata": {},
          "output_type": "execute_result"
        }
      ],
      "source": [
        "df"
      ]
    },
    {
      "cell_type": "code",
      "execution_count": 53,
      "metadata": {
        "colab": {
          "base_uri": "https://localhost:8080/"
        },
        "id": "vhVnbEa0c3Vl",
        "outputId": "ddb25f8b-b41b-4900-dbe7-394d7e981a34"
      },
      "outputs": [
        {
          "name": "stdout",
          "output_type": "stream",
          "text": [
            "<class 'pandas.core.frame.DataFrame'>\n",
            "RangeIndex: 1102 entries, 0 to 1101\n",
            "Data columns (total 35 columns):\n",
            " #   Column                    Non-Null Count  Dtype \n",
            "---  ------                    --------------  ----- \n",
            " 0   Age                       1102 non-null   int64 \n",
            " 1   Attrition                 1102 non-null   object\n",
            " 2   BusinessTravel            1102 non-null   object\n",
            " 3   DailyRate                 1102 non-null   int64 \n",
            " 4   Department                1102 non-null   object\n",
            " 5   DistanceFromHome          1102 non-null   int64 \n",
            " 6   Education                 1102 non-null   int64 \n",
            " 7   EducationField            1102 non-null   object\n",
            " 8   EmployeeCount             1102 non-null   int64 \n",
            " 9   EmployeeNumber            1102 non-null   int64 \n",
            " 10  EnvironmentSatisfaction   1102 non-null   int64 \n",
            " 11  Gender                    1102 non-null   object\n",
            " 12  HourlyRate                1102 non-null   int64 \n",
            " 13  JobInvolvement            1102 non-null   int64 \n",
            " 14  JobLevel                  1102 non-null   int64 \n",
            " 15  JobRole                   1102 non-null   object\n",
            " 16  JobSatisfaction           1102 non-null   int64 \n",
            " 17  MaritalStatus             1102 non-null   object\n",
            " 18  MonthlyIncome             1102 non-null   int64 \n",
            " 19  MonthlyRate               1102 non-null   int64 \n",
            " 20  NumCompaniesWorked        1102 non-null   int64 \n",
            " 21  Over18                    1102 non-null   object\n",
            " 22  OverTime                  1102 non-null   object\n",
            " 23  PercentSalaryHike         1102 non-null   int64 \n",
            " 24  PerformanceRating         1102 non-null   int64 \n",
            " 25  RelationshipSatisfaction  1102 non-null   int64 \n",
            " 26  StandardHours             1102 non-null   int64 \n",
            " 27  StockOptionLevel          1102 non-null   int64 \n",
            " 28  TotalWorkingYears         1102 non-null   int64 \n",
            " 29  TrainingTimesLastYear     1102 non-null   int64 \n",
            " 30  WorkLifeBalance           1102 non-null   int64 \n",
            " 31  YearsAtCompany            1102 non-null   int64 \n",
            " 32  YearsInCurrentRole        1102 non-null   int64 \n",
            " 33  YearsSinceLastPromotion   1102 non-null   int64 \n",
            " 34  YearsWithCurrManager      1102 non-null   int64 \n",
            "dtypes: int64(26), object(9)\n",
            "memory usage: 301.5+ KB\n"
          ]
        }
      ],
      "source": [
        "df.info()"
      ]
    },
    {
      "cell_type": "code",
      "execution_count": 54,
      "metadata": {
        "colab": {
          "base_uri": "https://localhost:8080/"
        },
        "id": "86mnVw8SFjIq",
        "outputId": "fc60caaa-6822-4f3e-b8f6-2b190c328f31"
      },
      "outputs": [
        {
          "name": "stdout",
          "output_type": "stream",
          "text": [
            "Index(['Age', 'Attrition', 'BusinessTravel', 'DailyRate', 'Department',\n",
            "       'DistanceFromHome', 'Education', 'EducationField', 'EmployeeCount',\n",
            "       'EmployeeNumber', 'EnvironmentSatisfaction', 'Gender', 'HourlyRate',\n",
            "       'JobInvolvement', 'JobLevel', 'JobRole', 'JobSatisfaction',\n",
            "       'MaritalStatus', 'MonthlyIncome', 'MonthlyRate', 'NumCompaniesWorked',\n",
            "       'Over18', 'OverTime', 'PercentSalaryHike', 'PerformanceRating',\n",
            "       'RelationshipSatisfaction', 'StandardHours', 'StockOptionLevel',\n",
            "       'TotalWorkingYears', 'TrainingTimesLastYear', 'WorkLifeBalance',\n",
            "       'YearsAtCompany', 'YearsInCurrentRole', 'YearsSinceLastPromotion',\n",
            "       'YearsWithCurrManager'],\n",
            "      dtype='object')\n"
          ]
        }
      ],
      "source": [
        "print(df.columns)# TODO"
      ]
    },
    {
      "cell_type": "markdown",
      "metadata": {
        "id": "bj1YM_9zFjIq"
      },
      "source": [
        "Calculate the number of samples"
      ]
    },
    {
      "cell_type": "code",
      "execution_count": 55,
      "metadata": {
        "colab": {
          "base_uri": "https://localhost:8080/"
        },
        "id": "u4skd2ZpFjIq",
        "outputId": "0f3c1dea-7c3c-43d0-e785-8cdadae3bc16"
      },
      "outputs": [
        {
          "name": "stdout",
          "output_type": "stream",
          "text": [
            "1102\n"
          ]
        }
      ],
      "source": [
        "# TODO\n",
        "print(len(df))"
      ]
    },
    {
      "cell_type": "markdown",
      "metadata": {
        "id": "6dJwYP-cFjIq"
      },
      "source": [
        "Measure the number of unique values for each column. Note that Attrition is the target column."
      ]
    },
    {
      "cell_type": "code",
      "execution_count": 56,
      "metadata": {
        "colab": {
          "base_uri": "https://localhost:8080/"
        },
        "id": "wln5KbL4FjIr",
        "outputId": "7558f92b-d936-4abd-b566-164e01d1261b"
      },
      "outputs": [
        {
          "name": "stdout",
          "output_type": "stream",
          "text": [
            "type of nunique: <class 'pandas.core.series.Series'>\n",
            "number of unique values for each column:\n",
            "Age                           43\n",
            "Attrition                      2\n",
            "BusinessTravel                 3\n",
            "DailyRate                    736\n",
            "Department                     3\n",
            "DistanceFromHome              29\n",
            "Education                      5\n",
            "EducationField                 6\n",
            "EmployeeCount                  1\n",
            "EmployeeNumber              1102\n",
            "EnvironmentSatisfaction        4\n",
            "Gender                         2\n",
            "HourlyRate                    71\n",
            "JobInvolvement                 4\n",
            "JobLevel                       5\n",
            "JobRole                        9\n",
            "JobSatisfaction                4\n",
            "MaritalStatus                  3\n",
            "MonthlyIncome               1027\n",
            "MonthlyRate                 1082\n",
            "NumCompaniesWorked            10\n",
            "Over18                         1\n",
            "OverTime                       2\n",
            "PercentSalaryHike             15\n",
            "PerformanceRating              2\n",
            "RelationshipSatisfaction       4\n",
            "StandardHours                  1\n",
            "StockOptionLevel               4\n",
            "TotalWorkingYears             40\n",
            "TrainingTimesLastYear          7\n",
            "WorkLifeBalance                4\n",
            "YearsAtCompany                34\n",
            "YearsInCurrentRole            19\n",
            "YearsSinceLastPromotion       16\n",
            "YearsWithCurrManager          17\n",
            "dtype: int64\n"
          ]
        }
      ],
      "source": [
        "# TODO\n",
        "unique_values = df.nunique()\n",
        "print(\"type of nunique:\", type(unique_values))\n",
        "\n",
        "print(\"number of unique values for each column:\")\n",
        "print(unique_values)"
      ]
    },
    {
      "cell_type": "markdown",
      "metadata": {
        "id": "0o1avfjuFjIr"
      },
      "source": [
        "Check if there is a column with less than two unique values. If such a columns exists, remove it!"
      ]
    },
    {
      "cell_type": "code",
      "execution_count": 57,
      "metadata": {
        "colab": {
          "base_uri": "https://localhost:8080/"
        },
        "id": "3KDFfSykFjIr",
        "outputId": "f4651cff-1089-4cd4-a8a5-814dc07bb33b"
      },
      "outputs": [
        {
          "name": "stdout",
          "output_type": "stream",
          "text": [
            "columns after dropping:\n",
            "Index(['Age', 'Attrition', 'BusinessTravel', 'DailyRate', 'Department',\n",
            "       'DistanceFromHome', 'Education', 'EducationField', 'EmployeeNumber',\n",
            "       'EnvironmentSatisfaction', 'Gender', 'HourlyRate', 'JobInvolvement',\n",
            "       'JobLevel', 'JobRole', 'JobSatisfaction', 'MaritalStatus',\n",
            "       'MonthlyIncome', 'MonthlyRate', 'NumCompaniesWorked', 'OverTime',\n",
            "       'PercentSalaryHike', 'PerformanceRating', 'RelationshipSatisfaction',\n",
            "       'StockOptionLevel', 'TotalWorkingYears', 'TrainingTimesLastYear',\n",
            "       'WorkLifeBalance', 'YearsAtCompany', 'YearsInCurrentRole',\n",
            "       'YearsSinceLastPromotion', 'YearsWithCurrManager'],\n",
            "      dtype='object')\n"
          ]
        }
      ],
      "source": [
        "# TODO\n",
        "df_cleaned = df.drop(columns=['EmployeeCount', 'Over18', 'StandardHours'])\n",
        "\n",
        "print(\"columns after dropping:\")\n",
        "print(df_cleaned.columns)"
      ]
    },
    {
      "cell_type": "markdown",
      "metadata": {
        "id": "jzcCoMPyFjIs"
      },
      "source": [
        "Plot Mean BusinessTravel against Age. Note: Since the BusinessTravel column is categorical, you should first consider another column corresponding to each unique value BusinessTravel takes. For instance, you may assume that if someone does not travel, the value of the column for this person is 0."
      ]
    },
    {
      "cell_type": "code",
      "execution_count": 88,
      "metadata": {
        "id": "jHeoJ-4xFjIs"
      },
      "outputs": [],
      "source": [
        "# handle uniqueness\n",
        "le = LabelEncoder()\n",
        "df['BusinessTravel'] = le.fit_transform(df['BusinessTravel'])\n",
        "# TODO"
      ]
    },
    {
      "cell_type": "code",
      "execution_count": 89,
      "metadata": {
        "colab": {
          "base_uri": "https://localhost:8080/"
        },
        "id": "XpI5NOmLFjIs",
        "outputId": "8b47eb79-508a-4871-c3e5-75b1ab6f375b"
      },
      "outputs": [
        {
          "name": "stdout",
          "output_type": "stream",
          "text": [
            "Mean Age for each BusinessTravel category:\n",
            "Age\n",
            "18    1.000000\n",
            "19    1.857143\n",
            "20    1.800000\n",
            "21    1.666667\n",
            "22    1.571429\n",
            "23    1.923077\n",
            "24    1.352941\n",
            "25    1.833333\n",
            "26    1.689655\n",
            "27    1.560976\n",
            "28    1.583333\n",
            "29    1.769231\n",
            "30    1.636364\n",
            "31    1.538462\n",
            "32    1.511111\n",
            "33    1.466667\n",
            "34    1.509804\n",
            "35    1.677419\n",
            "36    1.543860\n",
            "37    1.575758\n",
            "38    1.666667\n",
            "39    1.517241\n",
            "40    1.625000\n",
            "41    1.545455\n",
            "42    1.513514\n",
            "43    1.444444\n",
            "44    1.750000\n",
            "45    1.517241\n",
            "46    1.826087\n",
            "47    1.642857\n",
            "48    1.714286\n",
            "49    1.666667\n",
            "50    1.478261\n",
            "51    1.764706\n",
            "52    1.733333\n",
            "53    1.933333\n",
            "54    1.733333\n",
            "55    1.684211\n",
            "56    1.800000\n",
            "57    2.000000\n",
            "58    1.636364\n",
            "59    1.714286\n",
            "60    2.000000\n",
            "Name: BusinessTravel, dtype: float64\n"
          ]
        }
      ],
      "source": [
        "# Map the column\n",
        "business_travel_means = df.groupby('Age').BusinessTravel.mean()\n",
        "print(\"Mean Age for each BusinessTravel category:\")\n",
        "print(business_travel_means)\n",
        "# TODO"
      ]
    },
    {
      "cell_type": "code",
      "execution_count": 93,
      "metadata": {
        "colab": {
          "base_uri": "https://localhost:8080/",
          "height": 564
        },
        "id": "2GzsqUZWFjIs",
        "outputId": "5f329e21-da8f-4cc7-bf49-6bb8a843dfc1"
      },
      "outputs": [
        {
          "data": {
            "image/png": "[encoded data removed]",
            "text/plain": [
              "<Figure size 1000x600 with 1 Axes>"
            ]
          },
          "metadata": {},
          "output_type": "display_data"
        }
      ],
      "source": [
        "# plot\n",
        "# TODO\n",
        "business_travel_means.plot(kind='bar', figsize=(10, 6))\n",
        "plt.xlabel('Age')\n",
        "plt.ylabel('Mean BusinessTravel')\n",
        "plt.title('Mean BusinessTravel Category for each Age')\n",
        "plt.xticks(rotation=0)\n",
        "plt.show()"
      ]
    },
    {
      "cell_type": "markdown",
      "metadata": {
        "id": "457600SjFjIt"
      },
      "source": [
        "Check if there seems to be a meaningful relationship between people's age and the years they have worked with their current manager. Your result should be a plot."
      ]
    },
    {
      "cell_type": "code",
      "execution_count": 61,
      "metadata": {
        "colab": {
          "base_uri": "https://localhost:8080/",
          "height": 564
        },
        "id": "tORjST47FjIt",
        "outputId": "08db1e75-501a-4ebf-a837-d1698377378d"
      },
      "outputs": [
        {
          "data": {
            "image/png": "[encoded data removed]",
            "text/plain": [
              "<Figure size 1000x600 with 1 Axes>"
            ]
          },
          "metadata": {},
          "output_type": "display_data"
        }
      ],
      "source": [
        "# TODO\n",
        "plt.figure(figsize=(10, 6))\n",
        "sns.scatterplot(x='Age', y='YearsWithCurrManager', data=df)\n",
        "sns.regplot(x='Age', y='YearsWithCurrManager', data=df, scatter=False, color='red')\n",
        "\n",
        "plt.xlabel('Age')\n",
        "plt.ylabel('Years With Current Manager')\n",
        "plt.title('Relationship between Age and Years With Current Manager')\n",
        "plt.show()\n"
      ]
    },
    {
      "cell_type": "markdown",
      "metadata": {
        "id": "2E6N5UgcFjIt"
      },
      "source": [
        "Plot the average MonthlyIncome against the YearsAtCompany."
      ]
    },
    {
      "cell_type": "code",
      "execution_count": 62,
      "metadata": {
        "colab": {
          "base_uri": "https://localhost:8080/",
          "height": 564
        },
        "id": "ZDZr_Uz6FjIt",
        "outputId": "80e645eb-e829-44c8-8d9d-3b85d0144542"
      },
      "outputs": [
        {
          "data": {
            "image/png": "[encoded data removed]",
            "text/plain": [
              "<Figure size 1000x600 with 1 Axes>"
            ]
          },
          "metadata": {},
          "output_type": "display_data"
        }
      ],
      "source": [
        "# TODO\n",
        "mean_monthly_income = df.groupby('YearsAtCompany')['MonthlyIncome'].mean()\n",
        "\n",
        "plt.figure(figsize=(10, 6))\n",
        "mean_monthly_income.plot(kind='line')\n",
        "plt.xlabel('Years At Company')\n",
        "plt.ylabel('Average Monthly Income')\n",
        "plt.title('Average Monthly Income vs. Years At Company')\n",
        "plt.grid(True)\n",
        "plt.show()"
      ]
    },
    {
      "cell_type": "markdown",
      "metadata": {
        "id": "QWMX1EqDFjIt"
      },
      "source": [
        "## Preprocessing"
      ]
    },
    {
      "cell_type": "markdown",
      "metadata": {
        "id": "jXqCKBtyFjIt"
      },
      "source": [
        "Label encode all categorical columns and split the data into train and test parts. The training part will further splitted into train and validation parts."
      ]
    },
    {
      "cell_type": "code",
      "execution_count": 75,
      "metadata": {
        "id": "Gd-etehwFjIt"
      },
      "outputs": [],
      "source": [
        "# Label encode\n",
        "\n",
        "# TODO\n",
        "categorical_columns = df.select_dtypes(include=['object']).columns\n",
        "\n",
        "for col in categorical_columns:\n",
        "    le = LabelEncoder()\n",
        "    df[col] = le.fit_transform(df[col])\n",
        "\n",
        "X = df.drop(columns='Attrition')\n",
        "y = df['Attrition']"
      ]
    },
    {
      "cell_type": "code",
      "execution_count": 76,
      "metadata": {
        "id": "uZxjHEBxFjIt"
      },
      "outputs": [],
      "source": [
        "# split into train and validation\n",
        "\n",
        "# TODO\n",
        "X_train, X_test, y_train, y_test = train_test_split(X, y, test_size=0.2, random_state=42)\n"
      ]
    },
    {
      "cell_type": "code",
      "execution_count": 77,
      "metadata": {
        "id": "_7FyHPYOFjIu"
      },
      "outputs": [],
      "source": [
        "# lens of train and validation datasets\n",
        "\n",
        "# TODO\n",
        "X_train, X_val, y_train, y_val = train_test_split(X_train, y_train, test_size=0.25, random_state=42)  # 0.25 x 0.8 = 0.2\n"
      ]
    },
    {
      "cell_type": "code",
      "execution_count": 78,
      "metadata": {
        "colab": {
          "base_uri": "https://localhost:8080/",
          "height": 443
        },
        "id": "RzNQfDeU_vdu",
        "outputId": "da390147-275d-4d3a-ae4d-dd7a99521bca"
      },
      "outputs": [
        {
          "data": {
            "application/vnd.google.colaboratory.intrinsic+json": {
              "type": "dataframe",
              "variable_name": "X_train"
            },
            "text/html": [
              "\n",
              "  <div id=\"df-a5c0aee8-c464-44a8-ab09-5198614f43fe\" class=\"colab-df-container\">\n",
              "    <div>\n",
              "<style scoped>\n",
              "    .dataframe tbody tr th:only-of-type {\n",
              "        vertical-align: middle;\n",
              "    }\n",
              "\n",
              "    .dataframe tbody tr th {\n",
              "        vertical-align: top;\n",
              "    }\n",
              "\n",
              "    .dataframe thead th {\n",
              "        text-align: right;\n",
              "    }\n",
              "</style>\n",
              "<table border=\"1\" class=\"dataframe\">\n",
              "  <thead>\n",
              "    <tr style=\"text-align: right;\">\n",
              "      <th></th>\n",
              "      <th>Age</th>\n",
              "      <th>BusinessTravel</th>\n",
              "      <th>DailyRate</th>\n",
              "      <th>Department</th>\n",
              "      <th>DistanceFromHome</th>\n",
              "      <th>Education</th>\n",
              "      <th>EducationField</th>\n",
              "      <th>EmployeeCount</th>\n",
              "      <th>EmployeeNumber</th>\n",
              "      <th>EnvironmentSatisfaction</th>\n",
              "      <th>...</th>\n",
              "      <th>RelationshipSatisfaction</th>\n",
              "      <th>StandardHours</th>\n",
              "      <th>StockOptionLevel</th>\n",
              "      <th>TotalWorkingYears</th>\n",
              "      <th>TrainingTimesLastYear</th>\n",
              "      <th>WorkLifeBalance</th>\n",
              "      <th>YearsAtCompany</th>\n",
              "      <th>YearsInCurrentRole</th>\n",
              "      <th>YearsSinceLastPromotion</th>\n",
              "      <th>YearsWithCurrManager</th>\n",
              "    </tr>\n",
              "  </thead>\n",
              "  <tbody>\n",
              "    <tr>\n",
              "      <th>324</th>\n",
              "      <td>30</td>\n",
              "      <td>2</td>\n",
              "      <td>501</td>\n",
              "      <td>2</td>\n",
              "      <td>27</td>\n",
              "      <td>5</td>\n",
              "      <td>2</td>\n",
              "      <td>1</td>\n",
              "      <td>747</td>\n",
              "      <td>3</td>\n",
              "      <td>...</td>\n",
              "      <td>4</td>\n",
              "      <td>80</td>\n",
              "      <td>1</td>\n",
              "      <td>10</td>\n",
              "      <td>2</td>\n",
              "      <td>2</td>\n",
              "      <td>8</td>\n",
              "      <td>7</td>\n",
              "      <td>7</td>\n",
              "      <td>7</td>\n",
              "    </tr>\n",
              "    <tr>\n",
              "      <th>217</th>\n",
              "      <td>26</td>\n",
              "      <td>1</td>\n",
              "      <td>1096</td>\n",
              "      <td>1</td>\n",
              "      <td>6</td>\n",
              "      <td>3</td>\n",
              "      <td>4</td>\n",
              "      <td>1</td>\n",
              "      <td>1918</td>\n",
              "      <td>3</td>\n",
              "      <td>...</td>\n",
              "      <td>1</td>\n",
              "      <td>80</td>\n",
              "      <td>1</td>\n",
              "      <td>8</td>\n",
              "      <td>3</td>\n",
              "      <td>3</td>\n",
              "      <td>7</td>\n",
              "      <td>7</td>\n",
              "      <td>7</td>\n",
              "      <td>7</td>\n",
              "    </tr>\n",
              "    <tr>\n",
              "      <th>729</th>\n",
              "      <td>34</td>\n",
              "      <td>1</td>\n",
              "      <td>1003</td>\n",
              "      <td>1</td>\n",
              "      <td>2</td>\n",
              "      <td>2</td>\n",
              "      <td>1</td>\n",
              "      <td>1</td>\n",
              "      <td>1140</td>\n",
              "      <td>4</td>\n",
              "      <td>...</td>\n",
              "      <td>4</td>\n",
              "      <td>80</td>\n",
              "      <td>0</td>\n",
              "      <td>5</td>\n",
              "      <td>3</td>\n",
              "      <td>2</td>\n",
              "      <td>3</td>\n",
              "      <td>2</td>\n",
              "      <td>0</td>\n",
              "      <td>2</td>\n",
              "    </tr>\n",
              "    <tr>\n",
              "      <th>927</th>\n",
              "      <td>31</td>\n",
              "      <td>2</td>\n",
              "      <td>1079</td>\n",
              "      <td>2</td>\n",
              "      <td>16</td>\n",
              "      <td>4</td>\n",
              "      <td>2</td>\n",
              "      <td>1</td>\n",
              "      <td>1761</td>\n",
              "      <td>1</td>\n",
              "      <td>...</td>\n",
              "      <td>1</td>\n",
              "      <td>80</td>\n",
              "      <td>3</td>\n",
              "      <td>10</td>\n",
              "      <td>2</td>\n",
              "      <td>3</td>\n",
              "      <td>1</td>\n",
              "      <td>0</td>\n",
              "      <td>0</td>\n",
              "      <td>0</td>\n",
              "    </tr>\n",
              "    <tr>\n",
              "      <th>713</th>\n",
              "      <td>27</td>\n",
              "      <td>2</td>\n",
              "      <td>1115</td>\n",
              "      <td>1</td>\n",
              "      <td>3</td>\n",
              "      <td>4</td>\n",
              "      <td>3</td>\n",
              "      <td>1</td>\n",
              "      <td>700</td>\n",
              "      <td>1</td>\n",
              "      <td>...</td>\n",
              "      <td>4</td>\n",
              "      <td>80</td>\n",
              "      <td>0</td>\n",
              "      <td>5</td>\n",
              "      <td>0</td>\n",
              "      <td>3</td>\n",
              "      <td>4</td>\n",
              "      <td>2</td>\n",
              "      <td>1</td>\n",
              "      <td>1</td>\n",
              "    </tr>\n",
              "    <tr>\n",
              "      <th>...</th>\n",
              "      <td>...</td>\n",
              "      <td>...</td>\n",
              "      <td>...</td>\n",
              "      <td>...</td>\n",
              "      <td>...</td>\n",
              "      <td>...</td>\n",
              "      <td>...</td>\n",
              "      <td>...</td>\n",
              "      <td>...</td>\n",
              "      <td>...</td>\n",
              "      <td>...</td>\n",
              "      <td>...</td>\n",
              "      <td>...</td>\n",
              "      <td>...</td>\n",
              "      <td>...</td>\n",
              "      <td>...</td>\n",
              "      <td>...</td>\n",
              "      <td>...</td>\n",
              "      <td>...</td>\n",
              "      <td>...</td>\n",
              "      <td>...</td>\n",
              "    </tr>\n",
              "    <tr>\n",
              "      <th>394</th>\n",
              "      <td>28</td>\n",
              "      <td>2</td>\n",
              "      <td>1300</td>\n",
              "      <td>1</td>\n",
              "      <td>17</td>\n",
              "      <td>2</td>\n",
              "      <td>3</td>\n",
              "      <td>1</td>\n",
              "      <td>536</td>\n",
              "      <td>3</td>\n",
              "      <td>...</td>\n",
              "      <td>4</td>\n",
              "      <td>80</td>\n",
              "      <td>1</td>\n",
              "      <td>10</td>\n",
              "      <td>2</td>\n",
              "      <td>3</td>\n",
              "      <td>10</td>\n",
              "      <td>0</td>\n",
              "      <td>1</td>\n",
              "      <td>8</td>\n",
              "    </tr>\n",
              "    <tr>\n",
              "      <th>125</th>\n",
              "      <td>45</td>\n",
              "      <td>2</td>\n",
              "      <td>1448</td>\n",
              "      <td>1</td>\n",
              "      <td>29</td>\n",
              "      <td>3</td>\n",
              "      <td>5</td>\n",
              "      <td>1</td>\n",
              "      <td>1465</td>\n",
              "      <td>2</td>\n",
              "      <td>...</td>\n",
              "      <td>4</td>\n",
              "      <td>80</td>\n",
              "      <td>2</td>\n",
              "      <td>10</td>\n",
              "      <td>4</td>\n",
              "      <td>4</td>\n",
              "      <td>3</td>\n",
              "      <td>1</td>\n",
              "      <td>1</td>\n",
              "      <td>2</td>\n",
              "    </tr>\n",
              "    <tr>\n",
              "      <th>474</th>\n",
              "      <td>27</td>\n",
              "      <td>1</td>\n",
              "      <td>1242</td>\n",
              "      <td>2</td>\n",
              "      <td>20</td>\n",
              "      <td>3</td>\n",
              "      <td>1</td>\n",
              "      <td>1</td>\n",
              "      <td>293</td>\n",
              "      <td>4</td>\n",
              "      <td>...</td>\n",
              "      <td>4</td>\n",
              "      <td>80</td>\n",
              "      <td>0</td>\n",
              "      <td>7</td>\n",
              "      <td>2</td>\n",
              "      <td>3</td>\n",
              "      <td>7</td>\n",
              "      <td>7</td>\n",
              "      <td>0</td>\n",
              "      <td>7</td>\n",
              "    </tr>\n",
              "    <tr>\n",
              "      <th>126</th>\n",
              "      <td>56</td>\n",
              "      <td>2</td>\n",
              "      <td>832</td>\n",
              "      <td>1</td>\n",
              "      <td>9</td>\n",
              "      <td>3</td>\n",
              "      <td>3</td>\n",
              "      <td>1</td>\n",
              "      <td>762</td>\n",
              "      <td>3</td>\n",
              "      <td>...</td>\n",
              "      <td>3</td>\n",
              "      <td>80</td>\n",
              "      <td>0</td>\n",
              "      <td>30</td>\n",
              "      <td>1</td>\n",
              "      <td>2</td>\n",
              "      <td>10</td>\n",
              "      <td>7</td>\n",
              "      <td>1</td>\n",
              "      <td>1</td>\n",
              "    </tr>\n",
              "    <tr>\n",
              "      <th>581</th>\n",
              "      <td>34</td>\n",
              "      <td>2</td>\n",
              "      <td>699</td>\n",
              "      <td>1</td>\n",
              "      <td>6</td>\n",
              "      <td>1</td>\n",
              "      <td>3</td>\n",
              "      <td>1</td>\n",
              "      <td>31</td>\n",
              "      <td>2</td>\n",
              "      <td>...</td>\n",
              "      <td>3</td>\n",
              "      <td>80</td>\n",
              "      <td>0</td>\n",
              "      <td>8</td>\n",
              "      <td>2</td>\n",
              "      <td>3</td>\n",
              "      <td>4</td>\n",
              "      <td>2</td>\n",
              "      <td>1</td>\n",
              "      <td>3</td>\n",
              "    </tr>\n",
              "  </tbody>\n",
              "</table>\n",
              "<p>660 rows × 34 columns</p>\n",
              "</div>\n",
              "    <div class=\"colab-df-buttons\">\n",
              "\n",
              "  <div class=\"colab-df-container\">\n",
              "    <button class=\"colab-df-convert\" onclick=\"convertToInteractive('df-a5c0aee8-c464-44a8-ab09-5198614f43fe')\"\n",
              "            title=\"Convert this dataframe to an interactive table.\"\n",
              "            style=\"display:none;\">\n",
              "\n",
              "  <svg xmlns=\"http://www.w3.org/2000/svg\" height=\"24px\" viewBox=\"0 -960 960 960\">\n",
              "    <path d=\"M120-120v-720h720v720H120Zm60-500h600v-160H180v160Zm220 220h160v-160H400v160Zm0 220h160v-160H400v160ZM180-400h160v-160H180v160Zm440 0h160v-160H620v160ZM180-180h160v-160H180v160Zm440 0h160v-160H620v160Z\"/>\n",
              "  </svg>\n",
              "    </button>\n",
              "\n",
              "  <style>\n",
              "    .colab-df-container {\n",
              "      display:flex;\n",
              "      gap: 12px;\n",
              "    }\n",
              "\n",
              "    .colab-df-convert {\n",
              "      background-color: #E8F0FE;\n",
              "      border: none;\n",
              "      border-radius: 50%;\n",
              "      cursor: pointer;\n",
              "      display: none;\n",
              "      fill: #1967D2;\n",
              "      height: 32px;\n",
              "      padding: 0 0 0 0;\n",
              "      width: 32px;\n",
              "    }\n",
              "\n",
              "    .colab-df-convert:hover {\n",
              "      background-color: #E2EBFA;\n",
              "      box-shadow: 0px 1px 2px rgba(60, 64, 67, 0.3), 0px 1px 3px 1px rgba(60, 64, 67, 0.15);\n",
              "      fill: #174EA6;\n",
              "    }\n",
              "\n",
              "    .colab-df-buttons div {\n",
              "      margin-bottom: 4px;\n",
              "    }\n",
              "\n",
              "    [theme=dark] .colab-df-convert {\n",
              "      background-color: #3B4455;\n",
              "      fill: #D2E3FC;\n",
              "    }\n",
              "\n",
              "    [theme=dark] .colab-df-convert:hover {\n",
              "      background-color: #434B5C;\n",
              "      box-shadow: 0px 1px 3px 1px rgba(0, 0, 0, 0.15);\n",
              "      filter: drop-shadow(0px 1px 2px rgba(0, 0, 0, 0.3));\n",
              "      fill: #FFFFFF;\n",
              "    }\n",
              "  </style>\n",
              "\n",
              "    <script>\n",
              "      const buttonEl =\n",
              "        document.querySelector('#df-a5c0aee8-c464-44a8-ab09-5198614f43fe button.colab-df-convert');\n",
              "      buttonEl.style.display =\n",
              "        google.colab.kernel.accessAllowed ? 'block' : 'none';\n",
              "\n",
              "      async function convertToInteractive(key) {\n",
              "        const element = document.querySelector('#df-a5c0aee8-c464-44a8-ab09-5198614f43fe');\n",
              "        const dataTable =\n",
              "          await google.colab.kernel.invokeFunction('convertToInteractive',\n",
              "                                                    [key], {});\n",
              "        if (!dataTable) return;\n",
              "\n",
              "        const docLinkHtml = 'Like what you see? Visit the ' +\n",
              "          '<a target=\"_blank\" href=https://colab.research.google.com/notebooks/data_table.ipynb>data table notebook</a>'\n",
              "          + ' to learn more about interactive tables.';\n",
              "        element.innerHTML = '';\n",
              "        dataTable['output_type'] = 'display_data';\n",
              "        await google.colab.output.renderOutput(dataTable, element);\n",
              "        const docLink = document.createElement('div');\n",
              "        docLink.innerHTML = docLinkHtml;\n",
              "        element.appendChild(docLink);\n",
              "      }\n",
              "    </script>\n",
              "  </div>\n",
              "\n",
              "\n",
              "<div id=\"df-881b4081-bd7b-4c4f-9287-090ac7b935bf\">\n",
              "  <button class=\"colab-df-quickchart\" onclick=\"quickchart('df-881b4081-bd7b-4c4f-9287-090ac7b935bf')\"\n",
              "            title=\"Suggest charts\"\n",
              "            style=\"display:none;\">\n",
              "\n",
              "<svg xmlns=\"http://www.w3.org/2000/svg\" height=\"24px\"viewBox=\"0 0 24 24\"\n",
              "     width=\"24px\">\n",
              "    <g>\n",
              "        <path d=\"M19 3H5c-1.1 0-2 .9-2 2v14c0 1.1.9 2 2 2h14c1.1 0 2-.9 2-2V5c0-1.1-.9-2-2-2zM9 17H7v-7h2v7zm4 0h-2V7h2v10zm4 0h-2v-4h2v4z\"/>\n",
              "    </g>\n",
              "</svg>\n",
              "  </button>\n",
              "\n",
              "<style>\n",
              "  .colab-df-quickchart {\n",
              "      --bg-color: #E8F0FE;\n",
              "      --fill-color: #1967D2;\n",
              "      --hover-bg-color: #E2EBFA;\n",
              "      --hover-fill-color: #174EA6;\n",
              "      --disabled-fill-color: #AAA;\n",
              "      --disabled-bg-color: #DDD;\n",
              "  }\n",
              "\n",
              "  [theme=dark] .colab-df-quickchart {\n",
              "      --bg-color: #3B4455;\n",
              "      --fill-color: #D2E3FC;\n",
              "      --hover-bg-color: #434B5C;\n",
              "      --hover-fill-color: #FFFFFF;\n",
              "      --disabled-bg-color: #3B4455;\n",
              "      --disabled-fill-color: #666;\n",
              "  }\n",
              "\n",
              "  .colab-df-quickchart {\n",
              "    background-color: var(--bg-color);\n",
              "    border: none;\n",
              "    border-radius: 50%;\n",
              "    cursor: pointer;\n",
              "    display: none;\n",
              "    fill: var(--fill-color);\n",
              "    height: 32px;\n",
              "    padding: 0;\n",
              "    width: 32px;\n",
              "  }\n",
              "\n",
              "  .colab-df-quickchart:hover {\n",
              "    background-color: var(--hover-bg-color);\n",
              "    box-shadow: 0 1px 2px rgba(60, 64, 67, 0.3), 0 1px 3px 1px rgba(60, 64, 67, 0.15);\n",
              "    fill: var(--button-hover-fill-color);\n",
              "  }\n",
              "\n",
              "  .colab-df-quickchart-complete:disabled,\n",
              "  .colab-df-quickchart-complete:disabled:hover {\n",
              "    background-color: var(--disabled-bg-color);\n",
              "    fill: var(--disabled-fill-color);\n",
              "    box-shadow: none;\n",
              "  }\n",
              "\n",
              "  .colab-df-spinner {\n",
              "    border: 2px solid var(--fill-color);\n",
              "    border-color: transparent;\n",
              "    border-bottom-color: var(--fill-color);\n",
              "    animation:\n",
              "      spin 1s steps(1) infinite;\n",
              "  }\n",
              "\n",
              "  @keyframes spin {\n",
              "    0% {\n",
              "      border-color: transparent;\n",
              "      border-bottom-color: var(--fill-color);\n",
              "      border-left-color: var(--fill-color);\n",
              "    }\n",
              "    20% {\n",
              "      border-color: transparent;\n",
              "      border-left-color: var(--fill-color);\n",
              "      border-top-color: var(--fill-color);\n",
              "    }\n",
              "    30% {\n",
              "      border-color: transparent;\n",
              "      border-left-color: var(--fill-color);\n",
              "      border-top-color: var(--fill-color);\n",
              "      border-right-color: var(--fill-color);\n",
              "    }\n",
              "    40% {\n",
              "      border-color: transparent;\n",
              "      border-right-color: var(--fill-color);\n",
              "      border-top-color: var(--fill-color);\n",
              "    }\n",
              "    60% {\n",
              "      border-color: transparent;\n",
              "      border-right-color: var(--fill-color);\n",
              "    }\n",
              "    80% {\n",
              "      border-color: transparent;\n",
              "      border-right-color: var(--fill-color);\n",
              "      border-bottom-color: var(--fill-color);\n",
              "    }\n",
              "    90% {\n",
              "      border-color: transparent;\n",
              "      border-bottom-color: var(--fill-color);\n",
              "    }\n",
              "  }\n",
              "</style>\n",
              "\n",
              "  <script>\n",
              "    async function quickchart(key) {\n",
              "      const quickchartButtonEl =\n",
              "        document.querySelector('#' + key + ' button');\n",
              "      quickchartButtonEl.disabled = true;  // To prevent multiple clicks.\n",
              "      quickchartButtonEl.classList.add('colab-df-spinner');\n",
              "      try {\n",
              "        const charts = await google.colab.kernel.invokeFunction(\n",
              "            'suggestCharts', [key], {});\n",
              "      } catch (error) {\n",
              "        console.error('Error during call to suggestCharts:', error);\n",
              "      }\n",
              "      quickchartButtonEl.classList.remove('colab-df-spinner');\n",
              "      quickchartButtonEl.classList.add('colab-df-quickchart-complete');\n",
              "    }\n",
              "    (() => {\n",
              "      let quickchartButtonEl =\n",
              "        document.querySelector('#df-881b4081-bd7b-4c4f-9287-090ac7b935bf button');\n",
              "      quickchartButtonEl.style.display =\n",
              "        google.colab.kernel.accessAllowed ? 'block' : 'none';\n",
              "    })();\n",
              "  </script>\n",
              "</div>\n",
              "    </div>\n",
              "  </div>\n"
            ],
            "text/plain": [
              "     Age  BusinessTravel  DailyRate  Department  DistanceFromHome  Education  \\\n",
              "324   30               2        501           2                27          5   \n",
              "217   26               1       1096           1                 6          3   \n",
              "729   34               1       1003           1                 2          2   \n",
              "927   31               2       1079           2                16          4   \n",
              "713   27               2       1115           1                 3          4   \n",
              "..   ...             ...        ...         ...               ...        ...   \n",
              "394   28               2       1300           1                17          2   \n",
              "125   45               2       1448           1                29          3   \n",
              "474   27               1       1242           2                20          3   \n",
              "126   56               2        832           1                 9          3   \n",
              "581   34               2        699           1                 6          1   \n",
              "\n",
              "     EducationField  EmployeeCount  EmployeeNumber  EnvironmentSatisfaction  \\\n",
              "324               2              1             747                        3   \n",
              "217               4              1            1918                        3   \n",
              "729               1              1            1140                        4   \n",
              "927               2              1            1761                        1   \n",
              "713               3              1             700                        1   \n",
              "..              ...            ...             ...                      ...   \n",
              "394               3              1             536                        3   \n",
              "125               5              1            1465                        2   \n",
              "474               1              1             293                        4   \n",
              "126               3              1             762                        3   \n",
              "581               3              1              31                        2   \n",
              "\n",
              "     ...  RelationshipSatisfaction  StandardHours  StockOptionLevel  \\\n",
              "324  ...                         4             80                 1   \n",
              "217  ...                         1             80                 1   \n",
              "729  ...                         4             80                 0   \n",
              "927  ...                         1             80                 3   \n",
              "713  ...                         4             80                 0   \n",
              "..   ...                       ...            ...               ...   \n",
              "394  ...                         4             80                 1   \n",
              "125  ...                         4             80                 2   \n",
              "474  ...                         4             80                 0   \n",
              "126  ...                         3             80                 0   \n",
              "581  ...                         3             80                 0   \n",
              "\n",
              "     TotalWorkingYears  TrainingTimesLastYear  WorkLifeBalance  \\\n",
              "324                 10                      2                2   \n",
              "217                  8                      3                3   \n",
              "729                  5                      3                2   \n",
              "927                 10                      2                3   \n",
              "713                  5                      0                3   \n",
              "..                 ...                    ...              ...   \n",
              "394                 10                      2                3   \n",
              "125                 10                      4                4   \n",
              "474                  7                      2                3   \n",
              "126                 30                      1                2   \n",
              "581                  8                      2                3   \n",
              "\n",
              "     YearsAtCompany  YearsInCurrentRole  YearsSinceLastPromotion  \\\n",
              "324               8                   7                        7   \n",
              "217               7                   7                        7   \n",
              "729               3                   2                        0   \n",
              "927               1                   0                        0   \n",
              "713               4                   2                        1   \n",
              "..              ...                 ...                      ...   \n",
              "394              10                   0                        1   \n",
              "125               3                   1                        1   \n",
              "474               7                   7                        0   \n",
              "126              10                   7                        1   \n",
              "581               4                   2                        1   \n",
              "\n",
              "     YearsWithCurrManager  \n",
              "324                     7  \n",
              "217                     7  \n",
              "729                     2  \n",
              "927                     0  \n",
              "713                     1  \n",
              "..                    ...  \n",
              "394                     8  \n",
              "125                     2  \n",
              "474                     7  \n",
              "126                     1  \n",
              "581                     3  \n",
              "\n",
              "[660 rows x 34 columns]"
            ]
          },
          "execution_count": 78,
          "metadata": {},
          "output_type": "execute_result"
        }
      ],
      "source": [
        "X_train"
      ]
    },
    {
      "cell_type": "code",
      "execution_count": 79,
      "metadata": {
        "colab": {
          "base_uri": "https://localhost:8080/"
        },
        "id": "FISAJ4Ab9oF3",
        "outputId": "24c0bf18-cfda-4503-c61e-7326bec9858c"
      },
      "outputs": [
        {
          "name": "stdout",
          "output_type": "stream",
          "text": [
            "Length of training dataset: 660\n",
            "Length of validation dataset: 221\n",
            "Length of test dataset: 221\n"
          ]
        }
      ],
      "source": [
        "print(f\"Length of training dataset: {len(X_train)}\")\n",
        "print(f\"Length of validation dataset: {len(X_val)}\")\n",
        "print(f\"Length of test dataset: {len(X_test)}\")"
      ]
    },
    {
      "cell_type": "markdown",
      "metadata": {
        "id": "Fk06BtbJFjIu"
      },
      "source": [
        "Split the test and validation dataframe into feature and label part, Attrition columns is the target columns and rest of the columns should be treated as features. (Note that win_or_defeat column is the target column)"
      ]
    },
    {
      "cell_type": "code",
      "execution_count": 80,
      "metadata": {
        "id": "Ef1o5i0DFjIu"
      },
      "outputs": [],
      "source": [
        "# TODO\n",
        "# This part is done above."
      ]
    },
    {
      "cell_type": "markdown",
      "metadata": {
        "id": "iKNtiTnoFjIu"
      },
      "source": [
        "\n",
        "# Model Implementation From Scratch\n",
        "  "
      ]
    },
    {
      "cell_type": "markdown",
      "metadata": {
        "id": "SeJ7-o48FjIu"
      },
      "source": [
        "\n",
        "\n",
        "## How the algorithm works\n",
        "\n",
        "**We calculate the euclidean distance between a new sample and all points**\n",
        "\n",
        "**We determine the label of the sample based on the majority vote**\n",
        "\n",
        "## Key Points:\n",
        "\n",
        "### Euclidean Distance\n",
        "**Euclidean distance is defined as the distance between two points**\n",
        "\n",
        "**Where it's represented by this equation :\n",
        "$$\\sqrt{\\sum\\limits_{i = 0}^{m-1} (x - y)^2}$$**\n"
      ]
    },
    {
      "cell_type": "code",
      "execution_count": 81,
      "metadata": {
        "id": "RKbdwk9TFjIu"
      },
      "outputs": [],
      "source": [
        "import numpy as np\n",
        "from collections import Counter\n",
        "\n",
        "class KNN:\n",
        "    def __init__(self, k=3):\n",
        "        \"\"\"\n",
        "        Initialize the KNN classifier.\n",
        "\n",
        "        Parameters:\n",
        "        - k (int): Number of neighbors to consider.\n",
        "        \"\"\"\n",
        "        self.k = k\n",
        "\n",
        "    def fit(self, X_train, y_train):\n",
        "        \"\"\"\n",
        "        Fit the KNN classifier to the training data.\n",
        "\n",
        "        Parameters:\n",
        "        - X_train (DataFrame): Training feature vectors.\n",
        "        - y_train (Series): Training labels.\n",
        "        \"\"\"\n",
        "        self.X_train = X_train\n",
        "        self.y_train = y_train\n",
        "\n",
        "    def euclidean_distance(self, x1, x2):\n",
        "        \"\"\"\n",
        "        Calculate the distance between two data points.\n",
        "\n",
        "        Parameters:\n",
        "        - x1 (numpy array): First data point.\n",
        "        - x2 (numpy array): Second data point.\n",
        "\n",
        "        Returns:\n",
        "        - float: Distance between x1 and x2.\n",
        "        \"\"\"\n",
        "        return np.sqrt(np.sum((x1 - x2) ** 2))\n",
        "\n",
        "    def predict(self, X_test):\n",
        "        \"\"\"\n",
        "        Predict labels for test data.\n",
        "\n",
        "        Parameters:\n",
        "        - X_test (DataFrame): Test feature vectors.\n",
        "\n",
        "        Returns:\n",
        "        - numpy array: Predicted labels.\n",
        "        \"\"\"\n",
        "        return np.array([self._predict(x) for x in X_test])\n",
        "\n",
        "    def _predict(self, x):\n",
        "        \"\"\"\n",
        "        Predict label for a single data point.\n",
        "\n",
        "        Parameters:\n",
        "        - x (numpy array): Test data point.\n",
        "\n",
        "        Returns:\n",
        "        - int: Predicted label.\n",
        "        \"\"\"\n",
        "        distances = [self.euclidean_distance(x, x_train) for x_train in self.X_train]\n",
        "        k_indices = np.argsort(distances)[:self.k]\n",
        "        k_nearest_labels = [self.y_train[i] for i in k_indices]\n",
        "        most_common = Counter(k_nearest_labels).most_common(1)\n",
        "        return most_common[0][0]"
      ]
    },
    {
      "cell_type": "markdown",
      "metadata": {
        "id": "2e6JhtVTFjIu"
      },
      "source": [
        "\n",
        "# Evaluation\n",
        "  "
      ]
    },
    {
      "cell_type": "markdown",
      "metadata": {
        "id": "q2MaOxnGFjIu"
      },
      "source": [
        "Define the model and train it."
      ]
    },
    {
      "cell_type": "code",
      "execution_count": 82,
      "metadata": {
        "id": "7EJQckvZAe-i"
      },
      "outputs": [],
      "source": [
        "X_train, X_test, y_train, y_test, X_val, y_val = np.array(X_train), np.array(X_test), np.array(y_train), np.array(y_test), np.array(X_val), np.array(y_val)"
      ]
    },
    {
      "cell_type": "code",
      "execution_count": 83,
      "metadata": {
        "id": "8cHnxJBjFjIu"
      },
      "outputs": [],
      "source": [
        "# TODO\n",
        "knn = KNN(k=3)\n",
        "knn.fit(X_train, y_train)"
      ]
    },
    {
      "cell_type": "markdown",
      "metadata": {
        "id": "QiEmUJ9YFjIu"
      },
      "source": [
        "Predict the y_train and y_test values."
      ]
    },
    {
      "cell_type": "code",
      "execution_count": 84,
      "metadata": {
        "colab": {
          "base_uri": "https://localhost:8080/"
        },
        "id": "HfSL7jmLFjIv",
        "outputId": "ae4cd763-16f1-414e-dc03-33aa5cd1fd0e"
      },
      "outputs": [
        {
          "name": "stdout",
          "output_type": "stream",
          "text": [
            "Train_Accuracy: 0.8727272727272727\n",
            "Test_Accuracy: 0.755656108597285\n"
          ]
        }
      ],
      "source": [
        "# TODO\n",
        "from sklearn.metrics import accuracy_score\n",
        "y_train_pred = knn.predict(X_train)\n",
        "train_accuracy = accuracy_score(y_train, y_train_pred)\n",
        "print(\"Train_Accuracy:\", train_accuracy)\n",
        "\n",
        "y_test_pred = knn.predict(X_test)\n",
        "test_accuracy = accuracy_score(y_test, y_test_pred)\n",
        "print(\"Test_Accuracy:\", test_accuracy)\n"
      ]
    },
    {
      "cell_type": "markdown",
      "metadata": {
        "id": "S-Z4DkwKFjIv"
      },
      "source": [
        "# Sklearn Implementation\n",
        "  "
      ]
    },
    {
      "cell_type": "markdown",
      "metadata": {
        "id": "sKfJKJeJFjIv"
      },
      "source": [
        "Define the sklearn knn model and fit to the training data"
      ]
    },
    {
      "cell_type": "code",
      "execution_count": 85,
      "metadata": {
        "colab": {
          "base_uri": "https://localhost:8080/",
          "height": 74
        },
        "id": "lP-ezFmMFjIv",
        "outputId": "44ffcf31-2100-4304-91e8-adf742363b2d"
      },
      "outputs": [
        {
          "data": {
            "text/html": [
              "<style>#sk-container-id-3 {color: black;background-color: white;}#sk-container-id-3 pre{padding: 0;}#sk-container-id-3 div.sk-toggleable {background-color: white;}#sk-container-id-3 label.sk-toggleable__label {cursor: pointer;display: block;width: 100%;margin-bottom: 0;padding: 0.3em;box-sizing: border-box;text-align: center;}#sk-container-id-3 label.sk-toggleable__label-arrow:before {content: \"▸\";float: left;margin-right: 0.25em;color: #696969;}#sk-container-id-3 label.sk-toggleable__label-arrow:hover:before {color: black;}#sk-container-id-3 div.sk-estimator:hover label.sk-toggleable__label-arrow:before {color: black;}#sk-container-id-3 div.sk-toggleable__content {max-height: 0;max-width: 0;overflow: hidden;text-align: left;background-color: #f0f8ff;}#sk-container-id-3 div.sk-toggleable__content pre {margin: 0.2em;color: black;border-radius: 0.25em;background-color: #f0f8ff;}#sk-container-id-3 input.sk-toggleable__control:checked~div.sk-toggleable__content {max-height: 200px;max-width: 100%;overflow: auto;}#sk-container-id-3 input.sk-toggleable__control:checked~label.sk-toggleable__label-arrow:before {content: \"▾\";}#sk-container-id-3 div.sk-estimator input.sk-toggleable__control:checked~label.sk-toggleable__label {background-color: #d4ebff;}#sk-container-id-3 div.sk-label input.sk-toggleable__control:checked~label.sk-toggleable__label {background-color: #d4ebff;}#sk-container-id-3 input.sk-hidden--visually {border: 0;clip: rect(1px 1px 1px 1px);clip: rect(1px, 1px, 1px, 1px);height: 1px;margin: -1px;overflow: hidden;padding: 0;position: absolute;width: 1px;}#sk-container-id-3 div.sk-estimator {font-family: monospace;background-color: #f0f8ff;border: 1px dotted black;border-radius: 0.25em;box-sizing: border-box;margin-bottom: 0.5em;}#sk-container-id-3 div.sk-estimator:hover {background-color: #d4ebff;}#sk-container-id-3 div.sk-parallel-item::after {content: \"\";width: 100%;border-bottom: 1px solid gray;flex-grow: 1;}#sk-container-id-3 div.sk-label:hover label.sk-toggleable__label {background-color: #d4ebff;}#sk-container-id-3 div.sk-serial::before {content: \"\";position: absolute;border-left: 1px solid gray;box-sizing: border-box;top: 0;bottom: 0;left: 50%;z-index: 0;}#sk-container-id-3 div.sk-serial {display: flex;flex-direction: column;align-items: center;background-color: white;padding-right: 0.2em;padding-left: 0.2em;position: relative;}#sk-container-id-3 div.sk-item {position: relative;z-index: 1;}#sk-container-id-3 div.sk-parallel {display: flex;align-items: stretch;justify-content: center;background-color: white;position: relative;}#sk-container-id-3 div.sk-item::before, #sk-container-id-3 div.sk-parallel-item::before {content: \"\";position: absolute;border-left: 1px solid gray;box-sizing: border-box;top: 0;bottom: 0;left: 50%;z-index: -1;}#sk-container-id-3 div.sk-parallel-item {display: flex;flex-direction: column;z-index: 1;position: relative;background-color: white;}#sk-container-id-3 div.sk-parallel-item:first-child::after {align-self: flex-end;width: 50%;}#sk-container-id-3 div.sk-parallel-item:last-child::after {align-self: flex-start;width: 50%;}#sk-container-id-3 div.sk-parallel-item:only-child::after {width: 0;}#sk-container-id-3 div.sk-dashed-wrapped {border: 1px dashed gray;margin: 0 0.4em 0.5em 0.4em;box-sizing: border-box;padding-bottom: 0.4em;background-color: white;}#sk-container-id-3 div.sk-label label {font-family: monospace;font-weight: bold;display: inline-block;line-height: 1.2em;}#sk-container-id-3 div.sk-label-container {text-align: center;}#sk-container-id-3 div.sk-container {/* jupyter's `normalize.less` sets `[hidden] { display: none; }` but bootstrap.min.css set `[hidden] { display: none !important; }` so we also need the `!important` here to be able to override the default hidden behavior on the sphinx rendered scikit-learn.org. See: https://github.com/scikit-learn/scikit-learn/issues/21755 */display: inline-block !important;position: relative;}#sk-container-id-3 div.sk-text-repr-fallback {display: none;}</style><div id=\"sk-container-id-3\" class=\"sk-top-container\"><div class=\"sk-text-repr-fallback\"><pre>KNeighborsClassifier(n_neighbors=3)</pre><b>In a Jupyter environment, please rerun this cell to show the HTML representation or trust the notebook. <br />On GitHub, the HTML representation is unable to render, please try loading this page with nbviewer.org.</b></div><div class=\"sk-container\" hidden><div class=\"sk-item\"><div class=\"sk-estimator sk-toggleable\"><input class=\"sk-toggleable__control sk-hidden--visually\" id=\"sk-estimator-id-3\" type=\"checkbox\" checked><label for=\"sk-estimator-id-3\" class=\"sk-toggleable__label sk-toggleable__label-arrow\">KNeighborsClassifier</label><div class=\"sk-toggleable__content\"><pre>KNeighborsClassifier(n_neighbors=3)</pre></div></div></div></div></div>"
            ],
            "text/plain": [
              "KNeighborsClassifier(n_neighbors=3)"
            ]
          },
          "execution_count": 85,
          "metadata": {},
          "output_type": "execute_result"
        }
      ],
      "source": [
        "# TODO\n",
        "from sklearn.neighbors import KNeighborsClassifier\n",
        "\n",
        "knn_model = KNeighborsClassifier(n_neighbors=3)\n",
        "knn_model.fit(X_train, y_train)"
      ]
    },
    {
      "cell_type": "markdown",
      "metadata": {
        "id": "Y8v-AfwjFjIv"
      },
      "source": [
        "Now predict the defined model on test data and return the accuracy"
      ]
    },
    {
      "cell_type": "code",
      "execution_count": 86,
      "metadata": {
        "colab": {
          "base_uri": "https://localhost:8080/"
        },
        "id": "RHPn44SMFjIz",
        "outputId": "163921aa-d36c-4146-a42c-d868d5c5d7a1"
      },
      "outputs": [
        {
          "name": "stdout",
          "output_type": "stream",
          "text": [
            "Training Accuracy: 0.8727272727272727\n",
            "Test Accuracy: 0.755656108597285\n"
          ]
        }
      ],
      "source": [
        "# TODO\n",
        "y_train_pred = knn_model.predict(X_train)\n",
        "y_test_pred = knn_model.predict(X_test)\n",
        "\n",
        "train_accuracy = accuracy_score(y_train, y_train_pred)\n",
        "test_accuracy = accuracy_score(y_test, y_test_pred)\n",
        "\n",
        "print(f\"Training Accuracy: {train_accuracy}\")\n",
        "print(f\"Test Accuracy: {test_accuracy}\")"
      ]
    },
    {
      "cell_type": "markdown",
      "metadata": {
        "id": "JV1Z6aspFjIz"
      },
      "source": [
        "# Thank You\n",
        "\n",
        "\n",
        "**Thank you for taking your time going through this notebook**\n",
        "\n",
        "**If you have any feedback please let me know**"
      ]
    },
    {
      "cell_type": "code",
      "execution_count": null,
      "metadata": {
        "id": "xBjbJwXMiwy-"
      },
      "outputs": [],
      "source": []
    }
  ],
  "metadata": {
    "colab": {
      "provenance": []
    },
    "kaggle": {
      "accelerator": "none",
      "dataSources": [
        {
          "datasetId": 4932532,
          "sourceId": 8302851,
          "sourceType": "datasetVersion"
        }
      ],
      "dockerImageVersionId": 30260,
      "isGpuEnabled": false,
      "isInternetEnabled": true,
      "language": "python",
      "sourceType": "notebook"
    },
    "kernelspec": {
      "display_name": "Python 3 (ipykernel)",
      "language": "python",
      "name": "python3"
    },
    "language_info": {
      "codemirror_mode": {
        "name": "ipython",
        "version": 3
      },
      "file_extension": ".py",
      "mimetype": "text/x-python",
      "name": "python",
      "nbconvert_exporter": "python",
      "pygments_lexer": "ipython3",
      "version": "3.11.0"
    }
  },
  "nbformat": 4,
  "nbformat_minor": 0
}
